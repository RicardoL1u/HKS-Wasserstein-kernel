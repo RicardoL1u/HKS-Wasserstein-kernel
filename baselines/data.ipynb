{
 "cells": [
  {
   "cell_type": "code",
   "execution_count": 1,
   "metadata": {},
   "outputs": [],
   "source": [
    "import pandas as pd\n",
    "dataset_list = ['MUTAG','PTC_MR']\n",
    "seed_list = [7,77,777,4396,1205]\n",
    "column_list = ['fold0','fold1','fold2','fold3','fold4',\n",
    "                        'fold5','fold6','fold7','fold8','fold9',]\n",
    "method_list = [\n",
    "    'SP_kernel',\n",
    "    'WL_kernel',\n",
    "    'Graphlet3',\n",
    "    'Graphlet4',\n",
    "    'RandomWalk',\n",
    "]"
   ]
  },
  {
   "cell_type": "code",
   "execution_count": 3,
   "metadata": {},
   "outputs": [
    {
     "name": "stdout",
     "output_type": "stream",
     "text": [
      "(50,)\n",
      "in MUTAG of SP_kernel\n",
      "Mean 10-fold accuracy: 84.39 +- 1.23 %\n",
      "(50,)\n",
      "in MUTAG of WL_kernel\n",
      "Mean 10-fold accuracy: 82.89 +- 0.94 %\n",
      "(50,)\n",
      "in MUTAG of Graphlet3\n",
      "Mean 10-fold accuracy: 66.49 +- 0.32 %\n",
      "(50,)\n",
      "in MUTAG of Graphlet4\n",
      "Mean 10-fold accuracy: 76.39 +- 1.17 %\n",
      "(50,)\n",
      "in MUTAG of RandomWalk\n",
      "Mean 10-fold accuracy: 82.54 +- 1.20 %\n",
      "(50,)\n",
      "in PTC_MR of SP_kernel\n",
      "Mean 10-fold accuracy: 61.18 +- 1.02 %\n",
      "(50,)\n",
      "in PTC_MR of WL_kernel\n",
      "Mean 10-fold accuracy: 62.24 +- 0.97 %\n",
      "(50,)\n",
      "in PTC_MR of Graphlet3\n",
      "Mean 10-fold accuracy: 57.65 +- 0.32 %\n",
      "(50,)\n",
      "in PTC_MR of Graphlet4\n",
      "Mean 10-fold accuracy: 56.94 +- 0.37 %\n",
      "(50,)\n",
      "in PTC_MR of RandomWalk\n",
      "Mean 10-fold accuracy: 57.06 +- 0.73 %\n"
     ]
    }
   ],
   "source": [
    "import numpy as np\n",
    "for dataset in dataset_list:\n",
    "    acc_list = []\n",
    "    for i in range(len(pd.read_csv(dataset + '_seed_{:04d}.csv'.format(7)))):\n",
    "        acc_list.append([])\n",
    "    for seed in seed_list:\n",
    "        file ='_seed_{:04d}.csv'.format(seed)\n",
    "        file = dataset + file\n",
    "        df_temp = pd.read_csv(file)\n",
    "        for i in range(len(df_temp)):\n",
    "            (acc_list[i]).append(df_temp.iloc[i].tolist()[2:])\n",
    "    \n",
    "    for i,data in enumerate(acc_list):\n",
    "        # df = pd.DataFrame(data,columns=column_list)\n",
    "        # df.to_csv('results/'+dataset+'_'+method_list[i]+'.csv')\n",
    "        \n",
    "        acc = np.array(data).reshape((-1))\n",
    "        # print(acc.shape)\n",
    "        print(f'in {dataset} of {method_list[i]}')\n",
    "\n",
    "        print('Mean 10-fold accuracy: {:2.2f} +- {:2.2f} %'.format(\n",
    "                    np.mean(acc) * 100,  \n",
    "                    np.std(acc) / np.sqrt(50)* 100))\n"
   ]
  },
  {
   "cell_type": "code",
   "execution_count": null,
   "metadata": {},
   "outputs": [],
   "source": []
  }
 ],
 "metadata": {
  "interpreter": {
   "hash": "a1971c9f38c2cf0d743ad2b9a2ce6f7ed15f68b6a421f032cbf050544a37987e"
  },
  "kernelspec": {
   "display_name": "Python 3.9.7 ('myenv')",
   "language": "python",
   "name": "python3"
  },
  "language_info": {
   "name": "python",
   "version": "3.9.7"
  },
  "orig_nbformat": 4
 },
 "nbformat": 4,
 "nbformat_minor": 2
}
