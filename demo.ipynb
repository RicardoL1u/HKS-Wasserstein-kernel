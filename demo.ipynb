{
 "cells": [
  {
   "cell_type": "code",
   "execution_count": 1,
   "metadata": {},
   "outputs": [
    {
     "name": "stderr",
     "output_type": "stream",
     "text": [
      "Using backend: pytorch[15:22:19] /opt/dgl/src/runtime/tensordispatch.cc:43: TensorDispatcher: dlopen failed: /home/ricardo/miniconda3/envs/myenv/lib/python3.9/site-packages/dgl/tensoradapter/pytorch/libtensoradapter_pytorch_1.10.2.so: cannot open shared object file: No such file or directory\n",
      "\n"
     ]
    }
   ],
   "source": [
    "import numpy as np\n",
    "import dgl\n",
    "import wass_dis\n",
    "import networkx as nx\n",
    "import matplotlib.pyplot as plt\n",
    "import signature\n",
    "import ot\n",
    "\n",
    "from signature import WKS\n",
    "from signature import get_sample4WKS\n",
    "\n",
    "from signature import HKS\n",
    "from signature import get_random_samples_based_exp_dual\n",
    "\n",
    "\n",
    "def Wass_WKS(glist):\n",
    "    return wass_dis.pairwise_wasserstein_distance(glist,800,signature_method=WKS,sample_method=get_sample4WKS,weight=[0.4],sinkhorn=False)\n",
    "\n",
    "def Wass_HKS(glist):\n",
    "    return wass_dis.pairwise_wasserstein_distance(glist,800,signature_method=HKS,sample_method=get_random_samples_based_exp_dual,weight=[0.4],sinkhorn=False)\n"
   ]
  },
  {
   "cell_type": "code",
   "execution_count": 2,
   "metadata": {},
   "outputs": [],
   "source": [
    "data = dgl.data.LegacyTUDataset('PTC_MR')\n",
    "graphs, y = zip(*[graph for graph in data])\n",
    "graphs = list(graphs)\n",
    "y = np.array([unit.item() for unit in y])\n",
    "Reds = plt.cm.get_cmap('Reds', 8)"
   ]
  },
  {
   "cell_type": "markdown",
   "metadata": {},
   "source": [
    "First Randomly select one graph $g_1$ from the PTC_MR dataset"
   ]
  },
  {
   "cell_type": "code",
   "execution_count": 3,
   "metadata": {},
   "outputs": [
    {
     "data": {
      "image/png": "[encoded data removed]",
      "text/plain": [
       "<Figure size 432x432 with 1 Axes>"
      ]
     },
     "metadata": {},
     "output_type": "display_data"
    }
   ],
   "source": [
    "g1 = graphs[11]\n",
    "G1 = dgl.to_networkx(g1)\n",
    "plt.figure(figsize=[6,6])\n",
    "ax = plt.gca()\n",
    "pos = nx.kamada_kawai_layout(G1)\n",
    "nx.draw(G1,pos=pos,node_color = [Reds((0.05))],node_size=500)\n",
    "for node, (x, y) in pos.items():\n",
    "    scatters = plt.scatter(x, y,s=510,marker='o',linewidths=5, c='white',edgecolors='black')\n",
    "    ax.add_artist(scatters)\n",
    "plt.show() "
   ]
  },
  {
   "cell_type": "code",
   "execution_count": 4,
   "metadata": {},
   "outputs": [
    {
     "name": "stdout",
     "output_type": "stream",
     "text": [
      "The number of nodes in this graph is 11\n",
      "Since we set the node embeding dimension to 800\n",
      "The shape of the node embedings matrix of the given graph should be (11, 800)\n"
     ]
    }
   ],
   "source": [
    "print(f'The number of nodes in this graph is {g1.num_nodes()}')\n",
    "hks_sig = signature.HKS(g1,signature.get_random_samples_based_exp_dual,800)\n",
    "print('Since we set the node embeding dimension to 800')\n",
    "print(f'The shape of the node embedings matrix of the given graph should be {hks_sig.shape}')"
   ]
  },
  {
   "cell_type": "markdown",
   "metadata": {},
   "source": [
    "The node distance matrix between $g_1$ and $g_1$ should be one $11\\times 11$ matrix, since there are 11 nodes in $g_1$, and all the diagional elements would be zero, the each elements in this matrix denote the cost of transporting one node to one other node "
   ]
  },
  {
   "cell_type": "code",
   "execution_count": 5,
   "metadata": {},
   "outputs": [
    {
     "name": "stdout",
     "output_type": "stream",
     "text": [
      "The shape of cost matric is (11, 11)\n",
      "Here is the detail cost matric\n",
      "[[ 0.   24.62 24.62  0.32  3.38  3.4   0.01 24.58  3.12  0.06 24.5 ]\n",
      " [24.62  0.    0.   28.56 10.49 10.34 25.08  0.   11.32 26.17  0.  ]\n",
      " [24.62  0.    0.   28.56 10.49 10.34 25.08  0.   11.32 26.17  0.  ]\n",
      " [ 0.32 28.56 28.56  0.    4.55  4.62  0.22 28.51  4.12  0.1  28.4 ]\n",
      " [ 3.38 10.49 10.49  4.55  0.    0.    3.47 10.45  0.02  3.77 10.37]\n",
      " [ 3.4  10.34 10.34  4.62  0.    0.    3.5  10.3   0.04  3.82 10.23]\n",
      " [ 0.01 25.08 25.08  0.22  3.47  3.5   0.   25.04  3.18  0.03 24.95]\n",
      " [24.58  0.    0.   28.51 10.45 10.3  25.04  0.   11.29 26.12  0.  ]\n",
      " [ 3.12 11.32 11.32  4.12  0.02  0.04  3.18 11.29  0.    3.44 11.2 ]\n",
      " [ 0.06 26.17 26.17  0.1   3.77  3.82  0.03 26.12  3.44  0.   26.02]\n",
      " [24.5   0.    0.   28.4  10.37 10.23 24.95  0.   11.2  26.02  0.  ]]\n"
     ]
    }
   ],
   "source": [
    "node_distance_matrix = ot.dist(\n",
    "    signature.HKS(g1,signature.get_random_samples_based_exp_dual,800), \n",
    "    signature.HKS(g1,signature.get_random_samples_based_exp_dual,800), \n",
    "    metric='sqeuclidean'\n",
    ")\n",
    "print(f'The shape of node distance matrix is {node_distance_matrix.shape}')\n",
    "np.set_printoptions(linewidth=np.inf)\n",
    "print('Here is the node distance matrix between nodes of g1 and nodes of g1')\n",
    "print (np.array_str(node_distance_matrix, precision=2, suppress_small=True))"
   ]
  },
  {
   "cell_type": "markdown",
   "metadata": {},
   "source": [
    "Thus obviously the transport plan with minimum cost would be one diagonal matric with all diagonal elements equals to $\\frac{1}{11}$, \n",
    "\n",
    "because we associate $g_1$ with one uniform distribution, each node would be associate one probility equals to $\\frac{1}{11}$ "
   ]
  },
  {
   "cell_type": "code",
   "execution_count": 6,
   "metadata": {},
   "outputs": [
    {
     "name": "stdout",
     "output_type": "stream",
     "text": [
      "The cost plan would be\n",
      "[[0.09090909 0.         0.         0.         0.         0.         0.         0.         0.         0.         0.        ]\n",
      " [0.         0.09090909 0.         0.         0.         0.         0.         0.         0.         0.         0.        ]\n",
      " [0.         0.         0.09090909 0.         0.         0.         0.         0.         0.         0.         0.        ]\n",
      " [0.         0.         0.         0.09090909 0.         0.         0.         0.         0.         0.         0.        ]\n",
      " [0.         0.         0.         0.         0.09090909 0.         0.         0.         0.         0.         0.        ]\n",
      " [0.         0.         0.         0.         0.         0.09090909 0.         0.         0.         0.         0.        ]\n",
      " [0.         0.         0.         0.         0.         0.         0.09090909 0.         0.         0.         0.        ]\n",
      " [0.         0.         0.         0.         0.         0.         0.         0.09090909 0.         0.         0.        ]\n",
      " [0.         0.         0.         0.         0.         0.         0.         0.         0.09090909 0.         0.        ]\n",
      " [0.         0.         0.         0.         0.         0.         0.         0.         0.         0.09090909 0.        ]\n",
      " [0.         0.         0.         0.         0.         0.         0.         0.         0.         0.         0.09090909]]\n"
     ]
    }
   ],
   "source": [
    "print('The cost plan would be')\n",
    "transport_plan_matrix = np.diag(np.full(11,1/11))\n",
    "print(transport_plan_matrix)"
   ]
  },
  {
   "cell_type": "markdown",
   "metadata": {},
   "source": [
    "Thus the distance between $g_1$ and $g_1$ could be calculated from sum of element-wise multiply between cost matric and transport plan matric"
   ]
  },
  {
   "cell_type": "code",
   "execution_count": 7,
   "metadata": {},
   "outputs": [
    {
     "name": "stdout",
     "output_type": "stream",
     "text": [
      "The graph wasserstein distance between g1 and g1 would be 0.0\n"
     ]
    }
   ],
   "source": [
    "gwd = np.sum(np.multiply(node_distance_matrix,transport_plan_matrix).reshape(-1))\n",
    "print(f'The graph wasserstein distance between g1 and g1 would be {np.round(gwd)}')"
   ]
  },
  {
   "cell_type": "markdown",
   "metadata": {},
   "source": [
    "Here we construct the one graph dataset with only two same graph, namely a list [g,g]\n",
    "Since there are only 2 same graphs, the  **calculated wasserstein distance matric** calculated should be one **(2,2) matric** \n",
    "with all elements equal to **zero**, lets check it"
   ]
  },
  {
   "cell_type": "code",
   "execution_count": 8,
   "metadata": {},
   "outputs": [
    {
     "name": "stdout",
     "output_type": "stream",
     "text": [
      "[array([[0.00000000e+00, 1.29189588e-14],\n",
      "       [1.29189588e-14, 0.00000000e+00]])]\n"
     ]
    }
   ],
   "source": [
    "print(Wass_HKS([g1,g1]))"
   ]
  },
  {
   "cell_type": "markdown",
   "metadata": {},
   "source": [
    "**all the diagonal element would be alway zero**, since the wasserstein distance of one graph between it self should always equals to zero, lets check it"
   ]
  },
  {
   "cell_type": "markdown",
   "metadata": {},
   "source": [
    "First we would also randomly select one graph $g_2$ from PTC_MR dataset"
   ]
  },
  {
   "cell_type": "code",
   "execution_count": 9,
   "metadata": {},
   "outputs": [
    {
     "data": {
      "image/png": "[encoded data removed]",
      "text/plain": [
       "<Figure size 432x432 with 1 Axes>"
      ]
     },
     "metadata": {},
     "output_type": "display_data"
    }
   ],
   "source": [
    "g2 = graphs[9]\n",
    "G2 = dgl.to_networkx(g2)\n",
    "plt.figure(figsize=[6,6])\n",
    "ax = plt.gca()\n",
    "pos = nx.kamada_kawai_layout(G2)\n",
    "nx.draw(G2,pos=pos,node_color = [Reds((0.05))],node_size=500)\n",
    "for node, (x, y) in pos.items():\n",
    "    scatters = plt.scatter(x, y,s=510,marker='o',linewidths=5, c='white',edgecolors='black')\n",
    "    ax.add_artist(scatters)\n",
    "plt.show() "
   ]
  },
  {
   "cell_type": "code",
   "execution_count": 10,
   "metadata": {},
   "outputs": [
    {
     "name": "stdout",
     "output_type": "stream",
     "text": [
      "the calculated wasserstein distance of this graph list is\n",
      "[array([[0.        , 0.66461819],\n",
      "       [0.66461819, 0.        ]])]\n"
     ]
    }
   ],
   "source": [
    "print('the calculated wasserstein distance of this graph list is')\n",
    "print(Wass_HKS([g1,g2]))"
   ]
  },
  {
   "cell_type": "markdown",
   "metadata": {},
   "source": [
    "As we assume above, the diagonal elements are zero, \n",
    "and the matric is symmetric, because Wasserstein distance satisfy the symmetric property"
   ]
  }
 ],
 "metadata": {
  "interpreter": {
   "hash": "a1971c9f38c2cf0d743ad2b9a2ce6f7ed15f68b6a421f032cbf050544a37987e"
  },
  "kernelspec": {
   "display_name": "Python 3.9.7 ('myenv')",
   "language": "python",
   "name": "python3"
  },
  "language_info": {
   "codemirror_mode": {
    "name": "ipython",
    "version": 3
   },
   "file_extension": ".py",
   "mimetype": "text/x-python",
   "name": "python",
   "nbconvert_exporter": "python",
   "pygments_lexer": "ipython3",
   "version": "3.9.7"
  },
  "orig_nbformat": 4
 },
 "nbformat": 4,
 "nbformat_minor": 2
}
