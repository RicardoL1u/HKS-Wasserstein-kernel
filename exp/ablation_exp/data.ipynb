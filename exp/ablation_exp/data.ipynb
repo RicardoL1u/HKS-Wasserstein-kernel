{
 "cells": [
  {
   "cell_type": "code",
   "execution_count": 1,
   "metadata": {},
   "outputs": [],
   "source": [
    "import pandas as pd\n",
    "import numpy as np\n",
    "import os "
   ]
  },
  {
   "cell_type": "code",
   "execution_count": 2,
   "metadata": {},
   "outputs": [],
   "source": [
    "dataset_list = ['MUTAG','PTC_MR','ENZYMES','PROTEINS','DD']\n",
    "method_list = ['HKS','WKS']\n",
    "column_list = ['fold','w','C','gamma','accuracy']"
   ]
  },
  {
   "cell_type": "code",
   "execution_count": 3,
   "metadata": {},
   "outputs": [],
   "source": [
    "for dataset in dataset_list:\n",
    "    for method in method_list:\n",
    "        Path = './results/'+dataset+'/'+method+'/'\n",
    "        list_of_files = sorted( filter( lambda x: os.path.isfile(os.path.join(Path, x)),\n",
    "                                os.listdir(Path) ) )\n",
    "        result_files = [pd.read_csv(Path+i) for i in list_of_files]\n",
    "        data = []\n",
    "        for i in range(10):\n",
    "            data.append(result_files[i].iloc[i].to_list())\n",
    "        df = pd.DataFrame(data,columns=column_list)\n",
    "        df.to_csv('./results/ablation/'+dataset+'_'+method+'1.csv')"
   ]
  },
  {
   "cell_type": "code",
   "execution_count": 5,
   "metadata": {},
   "outputs": [],
   "source": [
    "data = []\n",
    "rec_list = ['Method']\n",
    "rec_list.extend(dataset_list)\n",
    "for method in method_list:\n",
    "    unit0 = [method+' w=0']\n",
    "    unit1 = [method+' w=1']\n",
    "    for dataset in dataset_list:\n",
    "        df0 = pd.read_csv('./results/ablation/'+dataset+'_'+method+'0.csv')\n",
    "        df1 = pd.read_csv('./results/ablation/'+dataset+'_'+method+'1.csv')\n",
    "        acc0 = np.mean(df0['accuracy'])\n",
    "        acc1 = np.mean(df0['accuracy'])\n",
    "        ste0 = np.std(df0['accuracy'])/np.sqrt(10)\n",
    "        ste1 = np.std(df0['accuracy'])/np.sqrt(10)\n",
    "        unit0.append('{:2.2f} +- {:2.2f} %'.format(acc0 * 100, ste0 * 100))\n",
    "        unit1.append('{:2.2f} +- {:2.2f} %'.format(acc1 * 100, ste1 * 100))\n",
    "    data.append(unit0)\n",
    "    data.append(unit1)\n",
    "\n",
    "rec_df = pd.DataFrame(data,columns=rec_list)\n",
    "        \n"
   ]
  },
  {
   "cell_type": "code",
   "execution_count": 7,
   "metadata": {},
   "outputs": [],
   "source": [
    "rec_list"
   ]
  },
  {
   "cell_type": "code",
   "execution_count": null,
   "metadata": {},
   "outputs": [],
   "source": []
  }
 ],
 "metadata": {
  "interpreter": {
   "hash": "a1971c9f38c2cf0d743ad2b9a2ce6f7ed15f68b6a421f032cbf050544a37987e"
  },
  "kernelspec": {
   "display_name": "Python 3.9.7 ('myenv')",
   "language": "python",
   "name": "python3"
  },
  "language_info": {
   "codemirror_mode": {
    "name": "ipython",
    "version": 3
   },
   "file_extension": ".py",
   "mimetype": "text/x-python",
   "name": "python",
   "nbconvert_exporter": "python",
   "pygments_lexer": "ipython3",
   "version": "3.9.7"
  },
  "orig_nbformat": 4
 },
 "nbformat": 4,
 "nbformat_minor": 2
}
