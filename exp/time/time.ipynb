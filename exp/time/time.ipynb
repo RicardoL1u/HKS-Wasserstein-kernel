{
 "cells": [
  {
   "cell_type": "code",
   "execution_count": 1,
   "metadata": {},
   "outputs": [],
   "source": [
    "with open('PTC_MR_HKS.log', 'r') as file:\n",
    "    data = file.readlines()"
   ]
  },
  {
   "cell_type": "code",
   "execution_count": 2,
   "metadata": {},
   "outputs": [],
   "source": [
    "import re\n",
    "start_regex = r\"(.*): ready to compute the wass diss with \"\n",
    "end_regex = r\"(.*): have computed the wass diss with sinkhorn =\"\n"
   ]
  },
  {
   "cell_type": "code",
   "execution_count": 9,
   "metadata": {},
   "outputs": [],
   "source": [
    "wass_time = []\n",
    "from datetime import datetime\n",
    "for i in range(len(data)):\n",
    "    sm = re.match(start_regex, data[i])\n",
    "    if bool(sm):\n",
    "        em = re.match(end_regex, data[i+1])\n",
    "        i = i + 1\n",
    "        start_time = datetime.strptime(sm.group(1),'%Y/%m/%d %I:%M:%S')\n",
    "        end_time = datetime.strptime(em.group(1),'%Y/%m/%d %I:%M:%S')\n",
    "        wass_time.append((end_time - start_time).total_seconds())\n",
    "wass_time"
   ]
  },
  {
   "cell_type": "code",
   "execution_count": 34,
   "metadata": {},
   "outputs": [
    {
     "name": "stdout",
     "output_type": "stream",
     "text": [
      "Mean 10-fold accuracy: 0.81 +- 0.39 sec\n",
      "0:00:11\n"
     ]
    }
   ],
   "source": [
    "import numpy as np\n",
    "wass_time = np.array(wass_time)\n",
    "float_time = sprint(np.mean(wass_time)-int(np.mean(wass_time))\n",
    "print('Mean 10-fold accuracy: {:.2f} +- {:2.2f} sec'.format(\n",
    "                    np.mean(wass_time)-int(np.mean(wass_time)),  \n",
    "                    np.std(wass_time)))\n",
    "mean = datetime.fromtimestamp(int(np.mean(wass_time))) - datetime.strptime(\"1970-01-01 08:00:00\",'%Y-%m-%d %I:%M:%S')\n",
    "print(mean)"
   ]
  },
  {
   "cell_type": "code",
   "execution_count": 11,
   "metadata": {},
   "outputs": [
    {
     "data": {
      "text/plain": [
       "[11.0,\n",
       " 12.0,\n",
       " 12.0,\n",
       " 12.0,\n",
       " 12.0,\n",
       " 12.0,\n",
       " 11.0,\n",
       " 12.0,\n",
       " 12.0,\n",
       " 12.0,\n",
       " 12.0,\n",
       " 12.0,\n",
       " 11.0,\n",
       " 12.0,\n",
       " 12.0,\n",
       " 12.0,\n",
       " 12.0,\n",
       " 12.0,\n",
       " 11.0,\n",
       " 12.0,\n",
       " 12.0]"
      ]
     },
     "execution_count": 11,
     "metadata": {},
     "output_type": "execute_result"
    }
   ],
   "source": []
  },
  {
   "cell_type": "code",
   "execution_count": null,
   "metadata": {},
   "outputs": [],
   "source": []
  }
 ],
 "metadata": {
  "interpreter": {
   "hash": "a1971c9f38c2cf0d743ad2b9a2ce6f7ed15f68b6a421f032cbf050544a37987e"
  },
  "kernelspec": {
   "display_name": "Python 3.9.7 ('myenv')",
   "language": "python",
   "name": "python3"
  },
  "language_info": {
   "codemirror_mode": {
    "name": "ipython",
    "version": 3
   },
   "file_extension": ".py",
   "mimetype": "text/x-python",
   "name": "python",
   "nbconvert_exporter": "python",
   "pygments_lexer": "ipython3",
   "version": "3.9.7"
  },
  "orig_nbformat": 4
 },
 "nbformat": 4,
 "nbformat_minor": 2
}
