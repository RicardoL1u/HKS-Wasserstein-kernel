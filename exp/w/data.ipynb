{
 "cells": [
  {
   "cell_type": "code",
   "execution_count": 1,
   "metadata": {},
   "outputs": [],
   "source": [
    "import pandas as pd\n",
    "import numpy as np\n",
    "import os "
   ]
  },
  {
   "cell_type": "code",
   "execution_count": 2,
   "metadata": {},
   "outputs": [],
   "source": [
    "dataset_list = ['MUTAG','PTC_MR','ENZYMES','PROTEINS']\n",
    "method_list = ['HKS','WKS']\n",
    "column_list = ['dataset','method','C','gamma','w','sinkhorn','acc','std']\n"
   ]
  },
  {
   "cell_type": "code",
   "execution_count": 3,
   "metadata": {},
   "outputs": [],
   "source": [
    "data = []\n",
    "for dataset in dataset_list:\n",
    "    for method in method_list:\n",
    "        Path = './results/'+dataset+'/'+method+'/'\n",
    "        list_of_files = sorted( filter( lambda x: os.path.isfile(os.path.join(Path, x)),\n",
    "                                os.listdir(Path) ) )\n",
    "        result_files = [pd.read_csv(Path+i) for i in list_of_files]\n",
    "        means = np.array([np.mean(file[\"accuracy\"]) for file in result_files])\n",
    "        stds = np.array([np.std(file[\"accuracy\"]) for file in result_files])\n",
    "        best_df = result_files[np.argmax(means)].iloc[1]\n",
    "        data_unit = [dataset,method,best_df['C'],best_df['gamma'],best_df['w'],False,np.max(means),stds[np.argmax(means)]]\n",
    "        data.append(data_unit)"
   ]
  },
  {
   "cell_type": "code",
   "execution_count": 4,
   "metadata": {},
   "outputs": [],
   "source": [
    "df = pd.DataFrame(data,columns=column_list)"
   ]
  },
  {
   "cell_type": "code",
   "execution_count": 5,
   "metadata": {},
   "outputs": [
    {
     "data": {
      "text/html": [
       "<div>\n",
       "<style scoped>\n",
       "    .dataframe tbody tr th:only-of-type {\n",
       "        vertical-align: middle;\n",
       "    }\n",
       "\n",
       "    .dataframe tbody tr th {\n",
       "        vertical-align: top;\n",
       "    }\n",
       "\n",
       "    .dataframe thead th {\n",
       "        text-align: right;\n",
       "    }\n",
       "</style>\n",
       "<table border=\"1\" class=\"dataframe\">\n",
       "  <thead>\n",
       "    <tr style=\"text-align: right;\">\n",
       "      <th></th>\n",
       "      <th>dataset</th>\n",
       "      <th>method</th>\n",
       "      <th>C</th>\n",
       "      <th>gamma</th>\n",
       "      <th>w</th>\n",
       "      <th>sinkhorn</th>\n",
       "      <th>acc</th>\n",
       "      <th>std</th>\n",
       "    </tr>\n",
       "  </thead>\n",
       "  <tbody>\n",
       "    <tr>\n",
       "      <th>0</th>\n",
       "      <td>MUTAG</td>\n",
       "      <td>HKS</td>\n",
       "      <td>10.0</td>\n",
       "      <td>1.00</td>\n",
       "      <td>0.30</td>\n",
       "      <td>False</td>\n",
       "      <td>0.898830</td>\n",
       "      <td>0.043922</td>\n",
       "    </tr>\n",
       "    <tr>\n",
       "      <th>1</th>\n",
       "      <td>MUTAG</td>\n",
       "      <td>WKS</td>\n",
       "      <td>1000.0</td>\n",
       "      <td>0.10</td>\n",
       "      <td>0.60</td>\n",
       "      <td>False</td>\n",
       "      <td>0.925146</td>\n",
       "      <td>0.036030</td>\n",
       "    </tr>\n",
       "    <tr>\n",
       "      <th>2</th>\n",
       "      <td>PTC_MR</td>\n",
       "      <td>HKS</td>\n",
       "      <td>1000.0</td>\n",
       "      <td>1.00</td>\n",
       "      <td>0.35</td>\n",
       "      <td>False</td>\n",
       "      <td>0.619244</td>\n",
       "      <td>0.045103</td>\n",
       "    </tr>\n",
       "    <tr>\n",
       "      <th>3</th>\n",
       "      <td>PTC_MR</td>\n",
       "      <td>WKS</td>\n",
       "      <td>1.0</td>\n",
       "      <td>10.00</td>\n",
       "      <td>0.60</td>\n",
       "      <td>False</td>\n",
       "      <td>0.665798</td>\n",
       "      <td>0.049955</td>\n",
       "    </tr>\n",
       "    <tr>\n",
       "      <th>4</th>\n",
       "      <td>ENZYMES</td>\n",
       "      <td>HKS</td>\n",
       "      <td>100.0</td>\n",
       "      <td>0.01</td>\n",
       "      <td>0.55</td>\n",
       "      <td>False</td>\n",
       "      <td>0.693333</td>\n",
       "      <td>0.050111</td>\n",
       "    </tr>\n",
       "    <tr>\n",
       "      <th>5</th>\n",
       "      <td>ENZYMES</td>\n",
       "      <td>WKS</td>\n",
       "      <td>100.0</td>\n",
       "      <td>0.01</td>\n",
       "      <td>0.55</td>\n",
       "      <td>False</td>\n",
       "      <td>0.693333</td>\n",
       "      <td>0.044845</td>\n",
       "    </tr>\n",
       "    <tr>\n",
       "      <th>6</th>\n",
       "      <td>PROTEINS</td>\n",
       "      <td>HKS</td>\n",
       "      <td>10.0</td>\n",
       "      <td>0.10</td>\n",
       "      <td>0.50</td>\n",
       "      <td>False</td>\n",
       "      <td>0.776939</td>\n",
       "      <td>0.032169</td>\n",
       "    </tr>\n",
       "    <tr>\n",
       "      <th>7</th>\n",
       "      <td>PROTEINS</td>\n",
       "      <td>WKS</td>\n",
       "      <td>10.0</td>\n",
       "      <td>0.10</td>\n",
       "      <td>0.40</td>\n",
       "      <td>False</td>\n",
       "      <td>0.751786</td>\n",
       "      <td>0.015323</td>\n",
       "    </tr>\n",
       "  </tbody>\n",
       "</table>\n",
       "</div>"
      ],
      "text/plain": [
       "    dataset method       C  gamma     w  sinkhorn       acc       std\n",
       "0     MUTAG    HKS    10.0   1.00  0.30     False  0.898830  0.043922\n",
       "1     MUTAG    WKS  1000.0   0.10  0.60     False  0.925146  0.036030\n",
       "2    PTC_MR    HKS  1000.0   1.00  0.35     False  0.619244  0.045103\n",
       "3    PTC_MR    WKS     1.0  10.00  0.60     False  0.665798  0.049955\n",
       "4   ENZYMES    HKS   100.0   0.01  0.55     False  0.693333  0.050111\n",
       "5   ENZYMES    WKS   100.0   0.01  0.55     False  0.693333  0.044845\n",
       "6  PROTEINS    HKS    10.0   0.10  0.50     False  0.776939  0.032169\n",
       "7  PROTEINS    WKS    10.0   0.10  0.40     False  0.751786  0.015323"
      ]
     },
     "execution_count": 5,
     "metadata": {},
     "output_type": "execute_result"
    }
   ],
   "source": [
    "\n",
    "df"
   ]
  },
  {
   "cell_type": "code",
   "execution_count": null,
   "metadata": {},
   "outputs": [],
   "source": []
  },
  {
   "cell_type": "code",
   "execution_count": null,
   "metadata": {},
   "outputs": [],
   "source": [
    "result_files[np.argmax(means)]"
   ]
  },
  {
   "cell_type": "code",
   "execution_count": 19,
   "metadata": {},
   "outputs": [
    {
     "name": "stdout",
     "output_type": "stream",
     "text": [
      "fold_id1\n",
      "0.6\n",
      "1.0\n",
      "10.0\n",
      "0.6857142857142857\n"
     ]
    },
    {
     "data": {
      "text/plain": [
       "1.0"
      ]
     },
     "execution_count": 19,
     "metadata": {},
     "output_type": "execute_result"
    }
   ],
   "source": [
    "for v in result_files[np.argmax(means)].iloc[1]:\n",
    "    print(v)\n",
    "result_files[np.argmax(means)].iloc[1]['C']"
   ]
  },
  {
   "cell_type": "code",
   "execution_count": null,
   "metadata": {},
   "outputs": [],
   "source": [
    "# pd.DataFrame()\n",
    "# dataset_list \n",
    "# df = pd.DataFrame(data,columns=['Site','Age'],dtype=float)\n"
   ]
  }
 ],
 "metadata": {
  "interpreter": {
   "hash": "a1971c9f38c2cf0d743ad2b9a2ce6f7ed15f68b6a421f032cbf050544a37987e"
  },
  "kernelspec": {
   "display_name": "Python 3.9.7 ('myenv')",
   "language": "python",
   "name": "python3"
  },
  "language_info": {
   "codemirror_mode": {
    "name": "ipython",
    "version": 3
   },
   "file_extension": ".py",
   "mimetype": "text/x-python",
   "name": "python",
   "nbconvert_exporter": "python",
   "pygments_lexer": "ipython3",
   "version": "3.9.7"
  },
  "orig_nbformat": 4
 },
 "nbformat": 4,
 "nbformat_minor": 2
}
