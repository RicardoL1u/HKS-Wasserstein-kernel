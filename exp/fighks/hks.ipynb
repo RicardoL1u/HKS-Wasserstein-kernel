{
 "cells": [
  {
   "cell_type": "code",
   "execution_count": null,
   "metadata": {},
   "outputs": [],
   "source": [
    "import os\n",
    "import networkx as nx\n",
    "import matplotlib.pyplot as plt\n",
    "os.chdir('../..')\n",
    "import signature\n",
    "import dgl\n",
    "import numpy as np"
   ]
  },
  {
   "cell_type": "code",
   "execution_count": null,
   "metadata": {},
   "outputs": [],
   "source": [
    "data = dgl.data.LegacyTUDataset('PTC_MR')\n",
    "graphs, y = zip(*[graph for graph in data])\n",
    "graphs = list(graphs)\n",
    "y = np.array([unit.item() for unit in y])\n",
    "Reds = plt.cm.get_cmap('Reds', 8)\n"
   ]
  },
  {
   "cell_type": "code",
   "execution_count": null,
   "metadata": {},
   "outputs": [],
   "source": [
    "hks_sig = signature.WKS(graphs[10],signature.get_sample4WKS,800)"
   ]
  },
  {
   "cell_type": "code",
   "execution_count": null,
   "metadata": {},
   "outputs": [],
   "source": [
    "t0_color = np.around(hks_sig[:,0],2)\n",
    "t1_color = np.around(hks_sig[:,100],2)\n",
    "t4_color = np.around(hks_sig[:,400],2)\n",
    "\n",
    "t8_color = np.around(hks_sig[:,-1],2)\n"
   ]
  },
  {
   "cell_type": "code",
   "execution_count": null,
   "metadata": {},
   "outputs": [],
   "source": [
    "t4_color"
   ]
  },
  {
   "cell_type": "code",
   "execution_count": null,
   "metadata": {},
   "outputs": [],
   "source": [
    "g = graphs[10]\n",
    "G = dgl.to_networkx(g)\n",
    "plt.figure(figsize=[10,10])\n",
    "ax = plt.gca()\n",
    "pos = nx.kamada_kawai_layout(G)\n",
    "nx.draw(G,pos=pos,node_color = [Reds((r-0.045)*30) for r in t4_color],node_size=500)\n",
    "# ax.set_aspect('equal')\n",
    "r = 0.1\n",
    "for node, (x, y) in pos.items():\n",
    "    # print(node,x,y)\n",
    "    # rad = centrality[node] * 0.25\n",
    "    scatters = plt.scatter(x, y,s=510,marker='o',linewidths=5, c='white',edgecolors='black')\n",
    "    # # plt.text(x - .012, y + rad, node, fontsize=16, weight=\"bold\")\n",
    "    ax.add_artist(scatters)\n",
    "plt.show() "
   ]
  },
  {
   "cell_type": "code",
   "execution_count": null,
   "metadata": {},
   "outputs": [],
   "source": [
    "g = graphs[10]\n",
    "G = dgl.to_networkx(g)\n",
    "plt.figure(figsize=[10,10])\n",
    "ax = plt.gca()\n",
    "pos = nx.kamada_kawai_layout(G)\n",
    "nx.draw(G,pos=pos,node_color = t0_color,cmap=plt.cm.Reds,node_size=500)\n",
    "# ax.set_aspect('equal')\n",
    "r = 0.1\n",
    "for node, (x, y) in pos.items():\n",
    "    # print(node,x,y)\n",
    "    # rad = centrality[node] * 0.25\n",
    "    scatters = plt.scatter(x, y,s=510,marker='o',linewidths=5, c='white',edgecolors='black')\n",
    "    # # plt.text(x - .012, y + rad, node, fontsize=16, weight=\"bold\")\n",
    "    ax.add_artist(scatters)\n",
    "plt.show() "
   ]
  },
  {
   "cell_type": "code",
   "execution_count": null,
   "metadata": {},
   "outputs": [],
   "source": []
  }
 ],
 "metadata": {
  "interpreter": {
   "hash": "a1971c9f38c2cf0d743ad2b9a2ce6f7ed15f68b6a421f032cbf050544a37987e"
  },
  "kernelspec": {
   "display_name": "Python 3.9.7 ('myenv')",
   "language": "python",
   "name": "python3"
  },
  "language_info": {
   "codemirror_mode": {
    "name": "ipython",
    "version": 3
   },
   "file_extension": ".py",
   "mimetype": "text/x-python",
   "name": "python",
   "nbconvert_exporter": "python",
   "pygments_lexer": "ipython3",
   "version": "3.9.7"
  },
  "orig_nbformat": 4
 },
 "nbformat": 4,
 "nbformat_minor": 2
}
