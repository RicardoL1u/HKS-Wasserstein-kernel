{
 "cells": [
  {
   "cell_type": "code",
   "execution_count": 1,
   "metadata": {},
   "outputs": [],
   "source": [
    "# import csv\n",
    "import os\n",
    "import numpy as np\n",
    "import pandas as pd\n",
    "dataset = 'PTC_MR'\n",
    "x0 = 100\n",
    "x1 = 1200\n",
    "y0 = 0.55\n",
    "y1 = 0.75"
   ]
  },
  {
   "cell_type": "code",
   "execution_count": 2,
   "metadata": {},
   "outputs": [],
   "source": [
    "method_list = ['HKS','WKS']\n",
    "Path_list = [\"./results/\"+dataset+\"/\"+method+\"/\" for method in method_list]\n",
    "x_axis = [100,200,300,400,500,600,700,800,900,1000,1100,1200]\n",
    "\n",
    "\n",
    "# Get list of all files in a given directory sorted by name\n",
    "list_of_files = [sorted( filter( lambda x: os.path.isfile(os.path.join(Path, x)),\n",
    "                        os.listdir(Path) ) ) for Path in Path_list]\n",
    "results_list = []\n",
    "results_list.append([pd.read_csv(Path_list[0]+i) for i in list_of_files[0] ])\n",
    "results_list.append([pd.read_csv(Path_list[1]+i) for i in list_of_files[1] ])"
   ]
  },
  {
   "cell_type": "code",
   "execution_count": 3,
   "metadata": {},
   "outputs": [
    {
     "data": {
      "text/html": [
       "<div>\n",
       "<style scoped>\n",
       "    .dataframe tbody tr th:only-of-type {\n",
       "        vertical-align: middle;\n",
       "    }\n",
       "\n",
       "    .dataframe tbody tr th {\n",
       "        vertical-align: top;\n",
       "    }\n",
       "\n",
       "    .dataframe thead th {\n",
       "        text-align: right;\n",
       "    }\n",
       "</style>\n",
       "<table border=\"1\" class=\"dataframe\">\n",
       "  <thead>\n",
       "    <tr style=\"text-align: right;\">\n",
       "      <th></th>\n",
       "      <th>Unnamed: 0</th>\n",
       "      <th>w</th>\n",
       "      <th>C</th>\n",
       "      <th>gamma</th>\n",
       "      <th>accuracy</th>\n",
       "    </tr>\n",
       "  </thead>\n",
       "  <tbody>\n",
       "    <tr>\n",
       "      <th>0</th>\n",
       "      <td>fold_id0</td>\n",
       "      <td>0.35</td>\n",
       "      <td>1000.0</td>\n",
       "      <td>1.0</td>\n",
       "      <td>0.685714</td>\n",
       "    </tr>\n",
       "    <tr>\n",
       "      <th>1</th>\n",
       "      <td>fold_id1</td>\n",
       "      <td>0.35</td>\n",
       "      <td>1000.0</td>\n",
       "      <td>1.0</td>\n",
       "      <td>0.657143</td>\n",
       "    </tr>\n",
       "    <tr>\n",
       "      <th>2</th>\n",
       "      <td>fold_id2</td>\n",
       "      <td>0.35</td>\n",
       "      <td>1000.0</td>\n",
       "      <td>1.0</td>\n",
       "      <td>0.600000</td>\n",
       "    </tr>\n",
       "    <tr>\n",
       "      <th>3</th>\n",
       "      <td>fold_id3</td>\n",
       "      <td>0.35</td>\n",
       "      <td>1000.0</td>\n",
       "      <td>1.0</td>\n",
       "      <td>0.600000</td>\n",
       "    </tr>\n",
       "    <tr>\n",
       "      <th>4</th>\n",
       "      <td>fold_id4</td>\n",
       "      <td>0.35</td>\n",
       "      <td>1000.0</td>\n",
       "      <td>1.0</td>\n",
       "      <td>0.647059</td>\n",
       "    </tr>\n",
       "    <tr>\n",
       "      <th>5</th>\n",
       "      <td>fold_id5</td>\n",
       "      <td>0.35</td>\n",
       "      <td>1000.0</td>\n",
       "      <td>1.0</td>\n",
       "      <td>0.500000</td>\n",
       "    </tr>\n",
       "    <tr>\n",
       "      <th>6</th>\n",
       "      <td>fold_id6</td>\n",
       "      <td>0.35</td>\n",
       "      <td>1000.0</td>\n",
       "      <td>1.0</td>\n",
       "      <td>0.676471</td>\n",
       "    </tr>\n",
       "    <tr>\n",
       "      <th>7</th>\n",
       "      <td>fold_id7</td>\n",
       "      <td>0.35</td>\n",
       "      <td>1000.0</td>\n",
       "      <td>1.0</td>\n",
       "      <td>0.588235</td>\n",
       "    </tr>\n",
       "    <tr>\n",
       "      <th>8</th>\n",
       "      <td>fold_id8</td>\n",
       "      <td>0.35</td>\n",
       "      <td>1000.0</td>\n",
       "      <td>1.0</td>\n",
       "      <td>0.617647</td>\n",
       "    </tr>\n",
       "    <tr>\n",
       "      <th>9</th>\n",
       "      <td>fold_id9</td>\n",
       "      <td>0.35</td>\n",
       "      <td>1000.0</td>\n",
       "      <td>1.0</td>\n",
       "      <td>0.529412</td>\n",
       "    </tr>\n",
       "  </tbody>\n",
       "</table>\n",
       "</div>"
      ],
      "text/plain": [
       "  Unnamed: 0     w       C  gamma  accuracy\n",
       "0   fold_id0  0.35  1000.0    1.0  0.685714\n",
       "1   fold_id1  0.35  1000.0    1.0  0.657143\n",
       "2   fold_id2  0.35  1000.0    1.0  0.600000\n",
       "3   fold_id3  0.35  1000.0    1.0  0.600000\n",
       "4   fold_id4  0.35  1000.0    1.0  0.647059\n",
       "5   fold_id5  0.35  1000.0    1.0  0.500000\n",
       "6   fold_id6  0.35  1000.0    1.0  0.676471\n",
       "7   fold_id7  0.35  1000.0    1.0  0.588235\n",
       "8   fold_id8  0.35  1000.0    1.0  0.617647\n",
       "9   fold_id9  0.35  1000.0    1.0  0.529412"
      ]
     },
     "execution_count": 3,
     "metadata": {},
     "output_type": "execute_result"
    }
   ],
   "source": [
    "results_list[0][0]"
   ]
  },
  {
   "cell_type": "code",
   "execution_count": 4,
   "metadata": {},
   "outputs": [],
   "source": [
    "hks_means = np.array([np.mean(file[\"accuracy\"]) for file in results_list[0]])\n",
    "hks_stes = np.array([np.std(file[\"accuracy\"]) for file in results_list[0]])/np.sqrt(10)\n",
    "wks_means = np.array([np.mean(file[\"accuracy\"]) for file in results_list[1]])\n",
    "wks_stes = np.array([np.std(file[\"accuracy\"]) for file in results_list[1]])/np.sqrt(10)"
   ]
  },
  {
   "cell_type": "code",
   "execution_count": 5,
   "metadata": {},
   "outputs": [
    {
     "ename": "ValueError",
     "evalue": "x and y must have same first dimension, but have shapes (12,) and (13,)",
     "output_type": "error",
     "traceback": [
      "\u001b[0;31m---------------------------------------------------------------------------\u001b[0m",
      "\u001b[0;31mValueError\u001b[0m                                Traceback (most recent call last)",
      "\u001b[1;32m/home/ricardo/HKS-Wasserstein-kernel/exp/exphl/fig.ipynb Cell 5'\u001b[0m in \u001b[0;36m<cell line: 15>\u001b[0;34m()\u001b[0m\n\u001b[1;32m     <a href='vscode-notebook-cell://wsl%2Bubuntu/home/ricardo/HKS-Wasserstein-kernel/exp/exphl/fig.ipynb#ch0000004vscode-remote?line=10'>11</a>\u001b[0m ax\u001b[39m.\u001b[39mfill_between(x_axis, hks_means\u001b[39m-\u001b[39mhks_stes, hks_means\u001b[39m+\u001b[39mhks_stes, alpha\u001b[39m=\u001b[39m\u001b[39m.5\u001b[39m, linewidth\u001b[39m=\u001b[39m\u001b[39m0\u001b[39m)\n\u001b[1;32m     <a href='vscode-notebook-cell://wsl%2Bubuntu/home/ricardo/HKS-Wasserstein-kernel/exp/exphl/fig.ipynb#ch0000004vscode-remote?line=11'>12</a>\u001b[0m \u001b[39m# ax.fill_between(x_axis, wks_means-wks_stes, wks_means+wks_stes, alpha=.5, linewidth=0)\u001b[39;00m\n\u001b[1;32m     <a href='vscode-notebook-cell://wsl%2Bubuntu/home/ricardo/HKS-Wasserstein-kernel/exp/exphl/fig.ipynb#ch0000004vscode-remote?line=12'>13</a>\u001b[0m \n\u001b[1;32m     <a href='vscode-notebook-cell://wsl%2Bubuntu/home/ricardo/HKS-Wasserstein-kernel/exp/exphl/fig.ipynb#ch0000004vscode-remote?line=13'>14</a>\u001b[0m \u001b[39m# ax.plot(x_axis, hks_means, linewidth=2)\u001b[39;00m\n\u001b[0;32m---> <a href='vscode-notebook-cell://wsl%2Bubuntu/home/ricardo/HKS-Wasserstein-kernel/exp/exphl/fig.ipynb#ch0000004vscode-remote?line=14'>15</a>\u001b[0m ax\u001b[39m.\u001b[39;49mplot(x_axis, wks_means, linewidth\u001b[39m=\u001b[39;49m\u001b[39m2\u001b[39;49m)\n\u001b[1;32m     <a href='vscode-notebook-cell://wsl%2Bubuntu/home/ricardo/HKS-Wasserstein-kernel/exp/exphl/fig.ipynb#ch0000004vscode-remote?line=15'>16</a>\u001b[0m ax\u001b[39m.\u001b[39mset(xlim\u001b[39m=\u001b[39m(x0, x1), xticks\u001b[39m=\u001b[39mnp\u001b[39m.\u001b[39marange(x0, x1\u001b[39m+\u001b[39m\u001b[39m100\u001b[39m, \u001b[39m100\u001b[39m),\n\u001b[1;32m     <a href='vscode-notebook-cell://wsl%2Bubuntu/home/ricardo/HKS-Wasserstein-kernel/exp/exphl/fig.ipynb#ch0000004vscode-remote?line=16'>17</a>\u001b[0m        ylim\u001b[39m=\u001b[39m(y0, y1), yticks\u001b[39m=\u001b[39mnp\u001b[39m.\u001b[39marange(y0, y1, \u001b[39m0.025\u001b[39m))\n\u001b[1;32m     <a href='vscode-notebook-cell://wsl%2Bubuntu/home/ricardo/HKS-Wasserstein-kernel/exp/exphl/fig.ipynb#ch0000004vscode-remote?line=17'>18</a>\u001b[0m plt\u001b[39m.\u001b[39mshow()\n",
      "File \u001b[0;32m~/miniconda3/envs/myenv/lib/python3.9/site-packages/matplotlib/axes/_axes.py:1632\u001b[0m, in \u001b[0;36mAxes.plot\u001b[0;34m(self, scalex, scaley, data, *args, **kwargs)\u001b[0m\n\u001b[1;32m   <a href='file:///home/ricardo/miniconda3/envs/myenv/lib/python3.9/site-packages/matplotlib/axes/_axes.py?line=1389'>1390</a>\u001b[0m \u001b[39m\"\"\"\u001b[39;00m\n\u001b[1;32m   <a href='file:///home/ricardo/miniconda3/envs/myenv/lib/python3.9/site-packages/matplotlib/axes/_axes.py?line=1390'>1391</a>\u001b[0m \u001b[39mPlot y versus x as lines and/or markers.\u001b[39;00m\n\u001b[1;32m   <a href='file:///home/ricardo/miniconda3/envs/myenv/lib/python3.9/site-packages/matplotlib/axes/_axes.py?line=1391'>1392</a>\u001b[0m \n\u001b[0;32m   (...)\u001b[0m\n\u001b[1;32m   <a href='file:///home/ricardo/miniconda3/envs/myenv/lib/python3.9/site-packages/matplotlib/axes/_axes.py?line=1628'>1629</a>\u001b[0m \u001b[39m(``'green'``) or hex strings (``'#008000'``).\u001b[39;00m\n\u001b[1;32m   <a href='file:///home/ricardo/miniconda3/envs/myenv/lib/python3.9/site-packages/matplotlib/axes/_axes.py?line=1629'>1630</a>\u001b[0m \u001b[39m\"\"\"\u001b[39;00m\n\u001b[1;32m   <a href='file:///home/ricardo/miniconda3/envs/myenv/lib/python3.9/site-packages/matplotlib/axes/_axes.py?line=1630'>1631</a>\u001b[0m kwargs \u001b[39m=\u001b[39m cbook\u001b[39m.\u001b[39mnormalize_kwargs(kwargs, mlines\u001b[39m.\u001b[39mLine2D)\n\u001b[0;32m-> <a href='file:///home/ricardo/miniconda3/envs/myenv/lib/python3.9/site-packages/matplotlib/axes/_axes.py?line=1631'>1632</a>\u001b[0m lines \u001b[39m=\u001b[39m [\u001b[39m*\u001b[39m\u001b[39mself\u001b[39m\u001b[39m.\u001b[39m_get_lines(\u001b[39m*\u001b[39margs, data\u001b[39m=\u001b[39mdata, \u001b[39m*\u001b[39m\u001b[39m*\u001b[39mkwargs)]\n\u001b[1;32m   <a href='file:///home/ricardo/miniconda3/envs/myenv/lib/python3.9/site-packages/matplotlib/axes/_axes.py?line=1632'>1633</a>\u001b[0m \u001b[39mfor\u001b[39;00m line \u001b[39min\u001b[39;00m lines:\n\u001b[1;32m   <a href='file:///home/ricardo/miniconda3/envs/myenv/lib/python3.9/site-packages/matplotlib/axes/_axes.py?line=1633'>1634</a>\u001b[0m     \u001b[39mself\u001b[39m\u001b[39m.\u001b[39madd_line(line)\n",
      "File \u001b[0;32m~/miniconda3/envs/myenv/lib/python3.9/site-packages/matplotlib/axes/_base.py:312\u001b[0m, in \u001b[0;36m_process_plot_var_args.__call__\u001b[0;34m(self, data, *args, **kwargs)\u001b[0m\n\u001b[1;32m    <a href='file:///home/ricardo/miniconda3/envs/myenv/lib/python3.9/site-packages/matplotlib/axes/_base.py?line=309'>310</a>\u001b[0m     this \u001b[39m+\u001b[39m\u001b[39m=\u001b[39m args[\u001b[39m0\u001b[39m],\n\u001b[1;32m    <a href='file:///home/ricardo/miniconda3/envs/myenv/lib/python3.9/site-packages/matplotlib/axes/_base.py?line=310'>311</a>\u001b[0m     args \u001b[39m=\u001b[39m args[\u001b[39m1\u001b[39m:]\n\u001b[0;32m--> <a href='file:///home/ricardo/miniconda3/envs/myenv/lib/python3.9/site-packages/matplotlib/axes/_base.py?line=311'>312</a>\u001b[0m \u001b[39myield from\u001b[39;00m \u001b[39mself\u001b[39;49m\u001b[39m.\u001b[39;49m_plot_args(this, kwargs)\n",
      "File \u001b[0;32m~/miniconda3/envs/myenv/lib/python3.9/site-packages/matplotlib/axes/_base.py:498\u001b[0m, in \u001b[0;36m_process_plot_var_args._plot_args\u001b[0;34m(self, tup, kwargs, return_kwargs)\u001b[0m\n\u001b[1;32m    <a href='file:///home/ricardo/miniconda3/envs/myenv/lib/python3.9/site-packages/matplotlib/axes/_base.py?line=494'>495</a>\u001b[0m     \u001b[39mself\u001b[39m\u001b[39m.\u001b[39maxes\u001b[39m.\u001b[39myaxis\u001b[39m.\u001b[39mupdate_units(y)\n\u001b[1;32m    <a href='file:///home/ricardo/miniconda3/envs/myenv/lib/python3.9/site-packages/matplotlib/axes/_base.py?line=496'>497</a>\u001b[0m \u001b[39mif\u001b[39;00m x\u001b[39m.\u001b[39mshape[\u001b[39m0\u001b[39m] \u001b[39m!=\u001b[39m y\u001b[39m.\u001b[39mshape[\u001b[39m0\u001b[39m]:\n\u001b[0;32m--> <a href='file:///home/ricardo/miniconda3/envs/myenv/lib/python3.9/site-packages/matplotlib/axes/_base.py?line=497'>498</a>\u001b[0m     \u001b[39mraise\u001b[39;00m \u001b[39mValueError\u001b[39;00m(\u001b[39mf\u001b[39m\u001b[39m\"\u001b[39m\u001b[39mx and y must have same first dimension, but \u001b[39m\u001b[39m\"\u001b[39m\n\u001b[1;32m    <a href='file:///home/ricardo/miniconda3/envs/myenv/lib/python3.9/site-packages/matplotlib/axes/_base.py?line=498'>499</a>\u001b[0m                      \u001b[39mf\u001b[39m\u001b[39m\"\u001b[39m\u001b[39mhave shapes \u001b[39m\u001b[39m{\u001b[39;00mx\u001b[39m.\u001b[39mshape\u001b[39m}\u001b[39;00m\u001b[39m and \u001b[39m\u001b[39m{\u001b[39;00my\u001b[39m.\u001b[39mshape\u001b[39m}\u001b[39;00m\u001b[39m\"\u001b[39m)\n\u001b[1;32m    <a href='file:///home/ricardo/miniconda3/envs/myenv/lib/python3.9/site-packages/matplotlib/axes/_base.py?line=499'>500</a>\u001b[0m \u001b[39mif\u001b[39;00m x\u001b[39m.\u001b[39mndim \u001b[39m>\u001b[39m \u001b[39m2\u001b[39m \u001b[39mor\u001b[39;00m y\u001b[39m.\u001b[39mndim \u001b[39m>\u001b[39m \u001b[39m2\u001b[39m:\n\u001b[1;32m    <a href='file:///home/ricardo/miniconda3/envs/myenv/lib/python3.9/site-packages/matplotlib/axes/_base.py?line=500'>501</a>\u001b[0m     \u001b[39mraise\u001b[39;00m \u001b[39mValueError\u001b[39;00m(\u001b[39mf\u001b[39m\u001b[39m\"\u001b[39m\u001b[39mx and y can be no greater than 2D, but have \u001b[39m\u001b[39m\"\u001b[39m\n\u001b[1;32m    <a href='file:///home/ricardo/miniconda3/envs/myenv/lib/python3.9/site-packages/matplotlib/axes/_base.py?line=501'>502</a>\u001b[0m                      \u001b[39mf\u001b[39m\u001b[39m\"\u001b[39m\u001b[39mshapes \u001b[39m\u001b[39m{\u001b[39;00mx\u001b[39m.\u001b[39mshape\u001b[39m}\u001b[39;00m\u001b[39m and \u001b[39m\u001b[39m{\u001b[39;00my\u001b[39m.\u001b[39mshape\u001b[39m}\u001b[39;00m\u001b[39m\"\u001b[39m)\n",
      "\u001b[0;31mValueError\u001b[0m: x and y must have same first dimension, but have shapes (12,) and (13,)"
     ]
    },
    {
     "data": {
      "image/png": "[encoded data removed]",
      "text/plain": [
       "<Figure size 576x288 with 1 Axes>"
      ]
     },
     "metadata": {
      "needs_background": "light"
     },
     "output_type": "display_data"
    }
   ],
   "source": [
    "import matplotlib.pyplot as plt\n",
    "plt.style.use('_mpl-gallery')\n",
    "# plot\n",
    "fig, ax = plt.subplots()\n",
    "fig.set_size_inches(8, 4)\n",
    "\n",
    "plt.title(\"effect of h for WKS in PTC_MR\") \n",
    "plt.xlabel(\"h axis\") \n",
    "plt.ylabel(\"acc axix\") \n",
    "\n",
    "ax.fill_between(x_axis, hks_means-hks_stes, hks_means+hks_stes, alpha=.5, linewidth=0)\n",
    "# ax.fill_between(x_axis, wks_means-wks_stes, wks_means+wks_stes, alpha=.5, linewidth=0)\n",
    "\n",
    "# ax.plot(x_axis, hks_means, linewidth=2)\n",
    "ax.plot(x_axis, wks_means, linewidth=2)\n",
    "ax.set(xlim=(x0, x1), xticks=np.arange(x0, x1+100, 100),\n",
    "       ylim=(y0, y1), yticks=np.arange(y0, y1, 0.025))\n",
    "plt.show()\n",
    "# plt.savefig('effect of h for WKS in '+dataset+'.png', bbox_inches='tight', pad_inches=0)"
   ]
  },
  {
   "cell_type": "code",
   "execution_count": null,
   "metadata": {},
   "outputs": [],
   "source": []
  }
 ],
 "metadata": {
  "interpreter": {
   "hash": "a1971c9f38c2cf0d743ad2b9a2ce6f7ed15f68b6a421f032cbf050544a37987e"
  },
  "kernelspec": {
   "display_name": "Python 3.9.7 ('myenv')",
   "language": "python",
   "name": "python3"
  },
  "language_info": {
   "codemirror_mode": {
    "name": "ipython",
    "version": 3
   },
   "file_extension": ".py",
   "mimetype": "text/x-python",
   "name": "python",
   "nbconvert_exporter": "python",
   "pygments_lexer": "ipython3",
   "version": "3.9.7"
  },
  "orig_nbformat": 4
 },
 "nbformat": 4,
 "nbformat_minor": 2
}
