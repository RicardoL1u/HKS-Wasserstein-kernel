{
 "cells": [
  {
   "cell_type": "code",
   "execution_count": 14,
   "metadata": {},
   "outputs": [],
   "source": [
    "# import csv\n",
    "import os\n",
    "import numpy as np\n",
    "import pandas as pd\n",
    "dataset = 'PTC_MR'\n",
    "x0 = 100\n",
    "x1 = 1300\n",
    "y0 = 0.475\n",
    "y1 = 0.675"
   ]
  },
  {
   "cell_type": "code",
   "execution_count": 15,
   "metadata": {},
   "outputs": [],
   "source": [
    "method_list = ['HKS','WKS']\n",
    "Path_list = [\"./results/\"+dataset+\"/\"+method+\"/\" for method in method_list]\n",
    "x_axis = [100,200,300,400,500,600,700,800,900,1000,1100,1200,1300]\n",
    "\n",
    "\n",
    "# Get list of all files in a given directory sorted by name\n",
    "list_of_files = [sorted( filter( lambda x: os.path.isfile(os.path.join(Path, x)),\n",
    "                        os.listdir(Path) ) ) for Path in Path_list]\n",
    "results_list = []\n",
    "results_list.append([pd.read_csv(Path_list[0]+i) for i in list_of_files[0] ])\n",
    "results_list.append([pd.read_csv(Path_list[1]+i) for i in list_of_files[1] ])"
   ]
  },
  {
   "cell_type": "code",
   "execution_count": 16,
   "metadata": {},
   "outputs": [
    {
     "data": {
      "text/html": [
       "<div>\n",
       "<style scoped>\n",
       "    .dataframe tbody tr th:only-of-type {\n",
       "        vertical-align: middle;\n",
       "    }\n",
       "\n",
       "    .dataframe tbody tr th {\n",
       "        vertical-align: top;\n",
       "    }\n",
       "\n",
       "    .dataframe thead th {\n",
       "        text-align: right;\n",
       "    }\n",
       "</style>\n",
       "<table border=\"1\" class=\"dataframe\">\n",
       "  <thead>\n",
       "    <tr style=\"text-align: right;\">\n",
       "      <th></th>\n",
       "      <th>Unnamed: 0</th>\n",
       "      <th>w</th>\n",
       "      <th>C</th>\n",
       "      <th>gamma</th>\n",
       "      <th>accuracy</th>\n",
       "    </tr>\n",
       "  </thead>\n",
       "  <tbody>\n",
       "    <tr>\n",
       "      <th>0</th>\n",
       "      <td>fold_id0</td>\n",
       "      <td>0.35</td>\n",
       "      <td>1000.0</td>\n",
       "      <td>1.0</td>\n",
       "      <td>0.685714</td>\n",
       "    </tr>\n",
       "    <tr>\n",
       "      <th>1</th>\n",
       "      <td>fold_id1</td>\n",
       "      <td>0.35</td>\n",
       "      <td>1000.0</td>\n",
       "      <td>1.0</td>\n",
       "      <td>0.657143</td>\n",
       "    </tr>\n",
       "    <tr>\n",
       "      <th>2</th>\n",
       "      <td>fold_id2</td>\n",
       "      <td>0.35</td>\n",
       "      <td>1000.0</td>\n",
       "      <td>1.0</td>\n",
       "      <td>0.600000</td>\n",
       "    </tr>\n",
       "    <tr>\n",
       "      <th>3</th>\n",
       "      <td>fold_id3</td>\n",
       "      <td>0.35</td>\n",
       "      <td>1000.0</td>\n",
       "      <td>1.0</td>\n",
       "      <td>0.600000</td>\n",
       "    </tr>\n",
       "    <tr>\n",
       "      <th>4</th>\n",
       "      <td>fold_id4</td>\n",
       "      <td>0.35</td>\n",
       "      <td>1000.0</td>\n",
       "      <td>1.0</td>\n",
       "      <td>0.647059</td>\n",
       "    </tr>\n",
       "    <tr>\n",
       "      <th>5</th>\n",
       "      <td>fold_id5</td>\n",
       "      <td>0.35</td>\n",
       "      <td>1000.0</td>\n",
       "      <td>1.0</td>\n",
       "      <td>0.500000</td>\n",
       "    </tr>\n",
       "    <tr>\n",
       "      <th>6</th>\n",
       "      <td>fold_id6</td>\n",
       "      <td>0.35</td>\n",
       "      <td>1000.0</td>\n",
       "      <td>1.0</td>\n",
       "      <td>0.676471</td>\n",
       "    </tr>\n",
       "    <tr>\n",
       "      <th>7</th>\n",
       "      <td>fold_id7</td>\n",
       "      <td>0.35</td>\n",
       "      <td>1000.0</td>\n",
       "      <td>1.0</td>\n",
       "      <td>0.588235</td>\n",
       "    </tr>\n",
       "    <tr>\n",
       "      <th>8</th>\n",
       "      <td>fold_id8</td>\n",
       "      <td>0.35</td>\n",
       "      <td>1000.0</td>\n",
       "      <td>1.0</td>\n",
       "      <td>0.617647</td>\n",
       "    </tr>\n",
       "    <tr>\n",
       "      <th>9</th>\n",
       "      <td>fold_id9</td>\n",
       "      <td>0.35</td>\n",
       "      <td>1000.0</td>\n",
       "      <td>1.0</td>\n",
       "      <td>0.529412</td>\n",
       "    </tr>\n",
       "  </tbody>\n",
       "</table>\n",
       "</div>"
      ],
      "text/plain": [
       "  Unnamed: 0     w       C  gamma  accuracy\n",
       "0   fold_id0  0.35  1000.0    1.0  0.685714\n",
       "1   fold_id1  0.35  1000.0    1.0  0.657143\n",
       "2   fold_id2  0.35  1000.0    1.0  0.600000\n",
       "3   fold_id3  0.35  1000.0    1.0  0.600000\n",
       "4   fold_id4  0.35  1000.0    1.0  0.647059\n",
       "5   fold_id5  0.35  1000.0    1.0  0.500000\n",
       "6   fold_id6  0.35  1000.0    1.0  0.676471\n",
       "7   fold_id7  0.35  1000.0    1.0  0.588235\n",
       "8   fold_id8  0.35  1000.0    1.0  0.617647\n",
       "9   fold_id9  0.35  1000.0    1.0  0.529412"
      ]
     },
     "execution_count": 16,
     "metadata": {},
     "output_type": "execute_result"
    }
   ],
   "source": [
    "results_list[0][0]"
   ]
  },
  {
   "cell_type": "code",
   "execution_count": 17,
   "metadata": {},
   "outputs": [],
   "source": [
    "hks_means = np.array([np.mean(file[\"accuracy\"]) for file in results_list[0]])\n",
    "hks_stes = np.array([np.std(file[\"accuracy\"]) for file in results_list[0]])/np.sqrt(10)\n",
    "wks_means = np.array([np.mean(file[\"accuracy\"]) for file in results_list[1]])\n",
    "wks_stes = np.array([np.std(file[\"accuracy\"]) for file in results_list[1]])/np.sqrt(10)"
   ]
  },
  {
   "cell_type": "code",
   "execution_count": 18,
   "metadata": {},
   "outputs": [
    {
     "data": {
      "image/png": "[encoded data removed]",
      "text/plain": [
       "<Figure size 576x288 with 1 Axes>"
      ]
     },
     "metadata": {
      "needs_background": "light"
     },
     "output_type": "display_data"
    }
   ],
   "source": [
    "import matplotlib.pyplot as plt\n",
    "plt.style.use('_mpl-gallery')\n",
    "# plot\n",
    "fig, ax = plt.subplots()\n",
    "fig.set_size_inches(8, 4)\n",
    "\n",
    "plt.title(\"effect of h for HKS in PTC_MR\") \n",
    "plt.xlabel(\"h axis\") \n",
    "plt.ylabel(\"acc axix\") \n",
    "\n",
    "ax.fill_between(x_axis, hks_means-hks_stes, hks_means+hks_stes, alpha=.5, linewidth=0)\n",
    "# ax.fill_between(x_axis, wks_means-wks_stes, wks_means+wks_stes, alpha=.5, linewidth=0)\n",
    "\n",
    "ax.plot(x_axis, hks_means, linewidth=2)\n",
    "# ax.plot(x_axis, wks_means, linewidth=2)\n",
    "ax.set(xlim=(x0, x1), xticks=np.arange(x0, x1+100, 100),\n",
    "       ylim=(y0, y1), yticks=np.arange(y0, y1, 0.025))\n",
    "plt.show()\n",
    "# plt.savefig('effect of h for WKS in '+dataset+'.png', bbox_inches='tight', pad_inches=0)"
   ]
  },
  {
   "cell_type": "code",
   "execution_count": null,
   "metadata": {},
   "outputs": [],
   "source": []
  }
 ],
 "metadata": {
  "interpreter": {
   "hash": "a1971c9f38c2cf0d743ad2b9a2ce6f7ed15f68b6a421f032cbf050544a37987e"
  },
  "kernelspec": {
   "display_name": "Python 3.9.7 ('myenv')",
   "language": "python",
   "name": "python3"
  },
  "language_info": {
   "codemirror_mode": {
    "name": "ipython",
    "version": 3
   },
   "file_extension": ".py",
   "mimetype": "text/x-python",
   "name": "python",
   "nbconvert_exporter": "python",
   "pygments_lexer": "ipython3",
   "version": "3.9.7"
  },
  "orig_nbformat": 4
 },
 "nbformat": 4,
 "nbformat_minor": 2
}
