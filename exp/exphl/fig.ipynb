{
 "cells": [
  {
   "cell_type": "code",
   "execution_count": null,
   "metadata": {},
   "outputs": [],
   "source": [
    "# import csv\n",
    "import os\n",
    "import numpy as np\n",
    "import pandas as pd\n",
    "dataset = 'PTC_MR'\n",
    "x0 = 100\n",
    "x1 = 1300\n",
    "y0 = 0.475\n",
    "y1 = 0.675"
   ]
  },
  {
   "cell_type": "code",
   "execution_count": null,
   "metadata": {},
   "outputs": [],
   "source": [
    "method_list = ['HKS','WKS']\n",
    "Path_list = [\"./results/\"+dataset+\"/\"+method+\"/\" for method in method_list]\n",
    "x_axis = [100,200,300,400,500,600,700,800,900,1000,1100,1200,1300]\n",
    "\n",
    "\n",
    "# Get list of all files in a given directory sorted by name\n",
    "list_of_files = [sorted( filter( lambda x: os.path.isfile(os.path.join(Path, x)),\n",
    "                        os.listdir(Path) ) ) for Path in Path_list]\n",
    "results_list = []\n",
    "results_list.append([pd.read_csv(Path_list[0]+i) for i in list_of_files[0] ])\n",
    "results_list.append([pd.read_csv(Path_list[1]+i) for i in list_of_files[1] ])"
   ]
  },
  {
   "cell_type": "code",
   "execution_count": null,
   "metadata": {},
   "outputs": [],
   "source": [
    "results_list[0][0]"
   ]
  },
  {
   "cell_type": "code",
   "execution_count": null,
   "metadata": {},
   "outputs": [],
   "source": [
    "hks_means = np.array([np.mean(file[\"accuracy\"]) for file in results_list[0]])\n",
    "hks_stes = np.array([np.std(file[\"accuracy\"]) for file in results_list[0]])/np.sqrt(10)\n",
    "wks_means = np.array([np.mean(file[\"accuracy\"]) for file in results_list[1]])\n",
    "wks_stes = np.array([np.std(file[\"accuracy\"]) for file in results_list[1]])/np.sqrt(10)"
   ]
  },
  {
   "cell_type": "code",
   "execution_count": null,
   "metadata": {},
   "outputs": [],
   "source": [
    "import matplotlib.pyplot as plt\n",
    "plt.style.use('_mpl-gallery')\n",
    "# plot\n",
    "fig, ax = plt.subplots()\n",
    "fig.set_size_inches(8, 4)\n",
    "\n",
    "plt.title(\"effect of h for HKS in PTC_MR\") \n",
    "plt.xlabel(\"h axis\") \n",
    "plt.ylabel(\"acc axix\") \n",
    "\n",
    "ax.fill_between(x_axis, hks_means-hks_stes, hks_means+hks_stes, alpha=.5, linewidth=0)\n",
    "# ax.fill_between(x_axis, wks_means-wks_stes, wks_means+wks_stes, alpha=.5, linewidth=0)\n",
    "\n",
    "ax.plot(x_axis, hks_means, linewidth=2)\n",
    "# ax.plot(x_axis, wks_means, linewidth=2)\n",
    "ax.set(xlim=(x0, x1), xticks=np.arange(x0, x1+100, 100),\n",
    "       ylim=(y0, y1), yticks=np.arange(y0, y1, 0.025))\n",
    "plt.show()\n",
    "# plt.savefig('effect of h for WKS in '+dataset+'.png', bbox_inches='tight', pad_inches=0)"
   ]
  },
  {
   "cell_type": "code",
   "execution_count": null,
   "metadata": {},
   "outputs": [],
   "source": []
  }
 ],
 "metadata": {
  "interpreter": {
   "hash": "a1971c9f38c2cf0d743ad2b9a2ce6f7ed15f68b6a421f032cbf050544a37987e"
  },
  "kernelspec": {
   "display_name": "Python 3.9.7 ('myenv')",
   "language": "python",
   "name": "python3"
  },
  "language_info": {
   "codemirror_mode": {
    "name": "ipython",
    "version": 3
   },
   "file_extension": ".py",
   "mimetype": "text/x-python",
   "name": "python",
   "nbconvert_exporter": "python",
   "pygments_lexer": "ipython3",
   "version": "3.9.7"
  },
  "orig_nbformat": 4
 },
 "nbformat": 4,
 "nbformat_minor": 2
}
