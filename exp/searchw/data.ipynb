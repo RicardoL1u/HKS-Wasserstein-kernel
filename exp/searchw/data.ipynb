{
 "cells": [
  {
   "cell_type": "code",
   "execution_count": 1,
   "metadata": {},
   "outputs": [
    {
     "ename": "FileNotFoundError",
     "evalue": "[Errno 2] No such file or directory: 'PTOTEINS/HKS'",
     "output_type": "error",
     "traceback": [
      "\u001b[0;31m---------------------------------------------------------------------------\u001b[0m",
      "\u001b[0;31mFileNotFoundError\u001b[0m                         Traceback (most recent call last)",
      "\u001b[1;32m/home/ricardo/HKS-Wasserstein-kernel/exp/searchw/data.ipynb Cell 1'\u001b[0m in \u001b[0;36m<cell line: 7>\u001b[0;34m()\u001b[0m\n\u001b[1;32m      <a href='vscode-notebook-cell://wsl%2Bubuntu/home/ricardo/HKS-Wasserstein-kernel/exp/searchw/data.ipynb#ch0000000vscode-remote?line=3'>4</a>\u001b[0m HKS_data_path \u001b[39m=\u001b[39m os\u001b[39m.\u001b[39mpath\u001b[39m.\u001b[39mjoin(dataset,\u001b[39m\"\u001b[39m\u001b[39mHKS\u001b[39m\u001b[39m\"\u001b[39m)\n\u001b[1;32m      <a href='vscode-notebook-cell://wsl%2Bubuntu/home/ricardo/HKS-Wasserstein-kernel/exp/searchw/data.ipynb#ch0000000vscode-remote?line=4'>5</a>\u001b[0m WKS_data_path \u001b[39m=\u001b[39m os\u001b[39m.\u001b[39mpath\u001b[39m.\u001b[39mjoin(dataset,\u001b[39m\"\u001b[39m\u001b[39mWKS\u001b[39m\u001b[39m\"\u001b[39m)\n\u001b[1;32m      <a href='vscode-notebook-cell://wsl%2Bubuntu/home/ricardo/HKS-Wasserstein-kernel/exp/searchw/data.ipynb#ch0000000vscode-remote?line=6'>7</a>\u001b[0m hks_files \u001b[39m=\u001b[39m \u001b[39msorted\u001b[39m( \u001b[39mfilter\u001b[39m( \u001b[39mlambda\u001b[39;00m x: os\u001b[39m.\u001b[39mpath\u001b[39m.\u001b[39misfile(os\u001b[39m.\u001b[39mpath\u001b[39m.\u001b[39mjoin(HKS_data_path, x)),\n\u001b[0;32m----> <a href='vscode-notebook-cell://wsl%2Bubuntu/home/ricardo/HKS-Wasserstein-kernel/exp/searchw/data.ipynb#ch0000000vscode-remote?line=7'>8</a>\u001b[0m                             os\u001b[39m.\u001b[39;49mlistdir(HKS_data_path) ) )\n\u001b[1;32m      <a href='vscode-notebook-cell://wsl%2Bubuntu/home/ricardo/HKS-Wasserstein-kernel/exp/searchw/data.ipynb#ch0000000vscode-remote?line=8'>9</a>\u001b[0m wks_files \u001b[39m=\u001b[39m \u001b[39msorted\u001b[39m( \u001b[39mfilter\u001b[39m( \u001b[39mlambda\u001b[39;00m x: os\u001b[39m.\u001b[39mpath\u001b[39m.\u001b[39misfile(os\u001b[39m.\u001b[39mpath\u001b[39m.\u001b[39mjoin(WKS_data_path, x)),\n\u001b[1;32m     <a href='vscode-notebook-cell://wsl%2Bubuntu/home/ricardo/HKS-Wasserstein-kernel/exp/searchw/data.ipynb#ch0000000vscode-remote?line=9'>10</a>\u001b[0m                             os\u001b[39m.\u001b[39mlistdir(WKS_data_path) ) )        \n\u001b[1;32m     <a href='vscode-notebook-cell://wsl%2Bubuntu/home/ricardo/HKS-Wasserstein-kernel/exp/searchw/data.ipynb#ch0000000vscode-remote?line=11'>12</a>\u001b[0m hks_results \u001b[39m=\u001b[39m [pd\u001b[39m.\u001b[39mread_csv(HKS_data_path\u001b[39m+\u001b[39m\u001b[39m\"\u001b[39m\u001b[39m/\u001b[39m\u001b[39m\"\u001b[39m\u001b[39m+\u001b[39mi) \u001b[39mfor\u001b[39;00m i \u001b[39min\u001b[39;00m hks_files]   \n",
      "\u001b[0;31mFileNotFoundError\u001b[0m: [Errno 2] No such file or directory: 'PTOTEINS/HKS'"
     ]
    }
   ],
   "source": [
    "import pandas as pd\n",
    "import os\n",
    "dataset = \"PROTEINS\"\n",
    "HKS_data_path = os.path.join(dataset,\"HKS\")\n",
    "WKS_data_path = os.path.join(dataset,\"WKS\")\n",
    "\n",
    "hks_files = sorted( filter( lambda x: os.path.isfile(os.path.join(HKS_data_path, x)),\n",
    "                            os.listdir(HKS_data_path) ) )\n",
    "wks_files = sorted( filter( lambda x: os.path.isfile(os.path.join(WKS_data_path, x)),\n",
    "                            os.listdir(WKS_data_path) ) )        \n",
    "\n",
    "hks_results = [pd.read_csv(HKS_data_path+\"/\"+i) for i in hks_files]   \n",
    "wks_results = [pd.read_csv(WKS_data_path+\"/\"+i) for i in wks_files]\n"
   ]
  },
  {
   "cell_type": "code",
   "execution_count": null,
   "metadata": {},
   "outputs": [],
   "source": [
    "results = []\n",
    "results.extend(hks_results)\n",
    "results.extend(wks_results)\n"
   ]
  },
  {
   "cell_type": "code",
   "execution_count": null,
   "metadata": {},
   "outputs": [
    {
     "name": "stdout",
     "output_type": "stream",
     "text": [
      "[0.59890756 0.59857143 0.53773109 0.63109244 0.59033613] [0.04175219 0.05640534 0.0865452  0.04834234 0.05693021]\n"
     ]
    }
   ],
   "source": [
    "import numpy as np  \n",
    "means = np.array([np.mean(file[\"accuracy\"]) for file in results])\n",
    "stds = np.array([np.std(file[\"accuracy\"]) for file in results])\n",
    "print(means,stds)\n"
   ]
  },
  {
   "cell_type": "code",
   "execution_count": null,
   "metadata": {},
   "outputs": [
    {
     "data": {
      "text/plain": [
       "[  Unnamed: 0     w       C  gamma  accuracy\n",
       " 0   fold_id0  0.50    10.0   10.0  0.600000\n",
       " 1   fold_id1  0.35    10.0   10.0  0.571429\n",
       " 2   fold_id2  0.50     1.0   10.0  0.628571\n",
       " 3   fold_id3  0.50     1.0   10.0  0.628571\n",
       " 4   fold_id4  0.55  1000.0   10.0  0.558824\n",
       " 5   fold_id5  0.55     1.0   10.0  0.647059\n",
       " 6   fold_id6  0.50     1.0   10.0  0.735294\n",
       " 7   fold_id7  0.55  1000.0   10.0  0.617647\n",
       " 8   fold_id8  0.45     1.0   10.0  0.647059\n",
       " 9   fold_id9  0.50     1.0   10.0  0.676471,\n",
       "   Unnamed: 0     w      C  gamma  accuracy\n",
       " 0   fold_id0  0.30   10.0    1.0  0.485714\n",
       " 1   fold_id1  0.40  100.0    1.0  0.571429\n",
       " 2   fold_id2  0.35  100.0    1.0  0.628571\n",
       " 3   fold_id3  0.35  100.0    1.0  0.600000\n",
       " 4   fold_id4  0.35   10.0   10.0  0.647059\n",
       " 5   fold_id5  0.40    1.0    1.0  0.500000\n",
       " 6   fold_id6  0.35   10.0    1.0  0.676471\n",
       " 7   fold_id7  0.35  100.0    1.0  0.588235\n",
       " 8   fold_id8  0.30  100.0    1.0  0.617647\n",
       " 9   fold_id9  0.30   10.0   10.0  0.588235]"
      ]
     },
     "execution_count": 10,
     "metadata": {},
     "output_type": "execute_result"
    }
   ],
   "source": [
    "wks_results"
   ]
  },
  {
   "cell_type": "code",
   "execution_count": null,
   "metadata": {},
   "outputs": [],
   "source": []
  }
 ],
 "metadata": {
  "interpreter": {
   "hash": "a1971c9f38c2cf0d743ad2b9a2ce6f7ed15f68b6a421f032cbf050544a37987e"
  },
  "kernelspec": {
   "display_name": "Python 3.9.7 ('myenv')",
   "language": "python",
   "name": "python3"
  },
  "language_info": {
   "codemirror_mode": {
    "name": "ipython",
    "version": 3
   },
   "file_extension": ".py",
   "mimetype": "text/x-python",
   "name": "python",
   "nbconvert_exporter": "python",
   "pygments_lexer": "ipython3",
   "version": "3.9.7"
  },
  "orig_nbformat": 4
 },
 "nbformat": 4,
 "nbformat_minor": 2
}
