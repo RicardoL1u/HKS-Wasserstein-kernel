{
 "cells": [
  {
   "cell_type": "code",
   "execution_count": 2,
   "metadata": {},
   "outputs": [],
   "source": [
    "import pandas as pd\n",
    "import os\n",
    "dataset = \"PTC_MR\"\n",
    "HKS_data_path = os.path.join(dataset,\"HKS\")\n",
    "WKS_data_path = os.path.join(dataset,\"WKS\")\n",
    "\n",
    "hks_files = sorted( filter( lambda x: os.path.isfile(os.path.join(HKS_data_path, x)),\n",
    "                            os.listdir(HKS_data_path) ) )\n",
    "wks_files = sorted( filter( lambda x: os.path.isfile(os.path.join(WKS_data_path, x)),\n",
    "                            os.listdir(WKS_data_path) ) )        \n",
    "\n",
    "hks_results = [pd.read_csv(HKS_data_path+\"/\"+i) for i in hks_files]   \n",
    "wks_results = [pd.read_csv(WKS_data_path+\"/\"+i) for i in wks_files]\n"
   ]
  },
  {
   "cell_type": "code",
   "execution_count": 3,
   "metadata": {},
   "outputs": [],
   "source": [
    "results = []\n",
    "results.extend(hks_results)\n",
    "results.extend(wks_results)\n"
   ]
  },
  {
   "cell_type": "code",
   "execution_count": 5,
   "metadata": {},
   "outputs": [
    {
     "name": "stdout",
     "output_type": "stream",
     "text": [
      "[0.57831933 0.59268908 0.59336134 0.63680672 0.58453782] [0.07401716 0.0682103  0.06674137 0.03018152 0.05110211]\n"
     ]
    }
   ],
   "source": [
    "import numpy as np  \n",
    "means = np.array([np.mean(file[\"accuracy\"]) for file in results])\n",
    "stds = np.array([np.std(file[\"accuracy\"]) for file in results])\n",
    "print(means,stds)\n"
   ]
  },
  {
   "cell_type": "code",
   "execution_count": null,
   "metadata": {},
   "outputs": [],
   "source": []
  }
 ],
 "metadata": {
  "interpreter": {
   "hash": "a1971c9f38c2cf0d743ad2b9a2ce6f7ed15f68b6a421f032cbf050544a37987e"
  },
  "kernelspec": {
   "display_name": "Python 3.9.7 ('myenv')",
   "language": "python",
   "name": "python3"
  },
  "language_info": {
   "codemirror_mode": {
    "name": "ipython",
    "version": 3
   },
   "file_extension": ".py",
   "mimetype": "text/x-python",
   "name": "python",
   "nbconvert_exporter": "python",
   "pygments_lexer": "ipython3",
   "version": "3.9.7"
  },
  "orig_nbformat": 4
 },
 "nbformat": 4,
 "nbformat_minor": 2
}
