{
 "cells": [
  {
   "cell_type": "code",
   "execution_count": 1,
   "metadata": {},
   "outputs": [],
   "source": [
    "import pandas as pd\n",
    "acc = pd.read_csv('acc.csv')\n",
    "ste = pd.read_csv('ste.csv')"
   ]
  },
  {
   "cell_type": "code",
   "execution_count": 6,
   "metadata": {},
   "outputs": [],
   "source": [
    "dataset_list = acc.columns.tolist()\n",
    "dataset_list[0] = 'methods'\n",
    "sym = '±'"
   ]
  },
  {
   "cell_type": "code",
   "execution_count": 10,
   "metadata": {},
   "outputs": [],
   "source": [
    "method_list = ste['Kernel'].tolist()"
   ]
  },
  {
   "cell_type": "code",
   "execution_count": 16,
   "metadata": {},
   "outputs": [
    {
     "name": "stdout",
     "output_type": "stream",
     "text": [
      "['SP', '{:2.2f} ± {:2.2f}%', '{:2.2f} ± {:2.2f}%', '{:2.2f} ± {:2.2f}%', '{:2.2f} ± {:2.2f}%', '{:2.2f} ± {:2.2f}%']\n",
      "['WL', '{:2.2f} ± {:2.2f}%', '{:2.2f} ± {:2.2f}%', '{:2.2f} ± {:2.2f}%', '{:2.2f} ± {:2.2f}%', '{:2.2f} ± {:2.2f}%']\n",
      "['RandomWalk', '{:2.2f} ± {:2.2f}%', '{:2.2f} ± {:2.2f}%', '{:2.2f} ± {:2.2f}%', '{:2.2f} ± {:2.2f}%', '{:2.2f} ± {:2.2f}%']\n",
      "['Graphlet k=3', '{:2.2f} ± {:2.2f}%', '{:2.2f} ± {:2.2f}%', '{:2.2f} ± {:2.2f}%', '{:2.2f} ± {:2.2f}%', '{:2.2f} ± {:2.2f}%']\n",
      "['Graphlet k=4', '{:2.2f} ± {:2.2f}%', '{:2.2f} ± {:2.2f}%', '{:2.2f} ± {:2.2f}%', '{:2.2f} ± {:2.2f}%', '{:2.2f} ± {:2.2f}%']\n",
      "['DiffPool', '{:2.2f} ± {:2.2f}%', '{:2.2f} ± {:2.2f}%', '{:2.2f} ± {:2.2f}%', '{:2.2f} ± {:2.2f}%', '{:2.2f} ± {:2.2f}%']\n",
      "['GIN', '{:2.2f} ± {:2.2f}%', '{:2.2f} ± {:2.2f}%', '{:2.2f} ± {:2.2f}%', '{:2.2f} ± {:2.2f}%', '{:2.2f} ± {:2.2f}%']\n",
      "['DGCNN', '{:2.2f} ± {:2.2f}%', '{:2.2f} ± {:2.2f}%', '{:2.2f} ± {:2.2f}%', '{:2.2f} ± {:2.2f}%', '{:2.2f} ± {:2.2f}%']\n",
      "['GraphSAGE', '{:2.2f} ± {:2.2f}%', '{:2.2f} ± {:2.2f}%', '{:2.2f} ± {:2.2f}%', '{:2.2f} ± {:2.2f}%', '{:2.2f} ± {:2.2f}%']\n",
      "['HKS w=0.0', '{:2.2f} ± {:2.2f}%', '{:2.2f} ± {:2.2f}%', '{:2.2f} ± {:2.2f}%', '{:2.2f} ± {:2.2f}%', '{:2.2f} ± {:2.2f}%']\n",
      "['WKS w=0.0', '{:2.2f} ± {:2.2f}%', '{:2.2f} ± {:2.2f}%', '{:2.2f} ± {:2.2f}%', '{:2.2f} ± {:2.2f}%', '{:2.2f} ± {:2.2f}%']\n",
      "['HKS w=1.0', '{:2.2f} ± {:2.2f}%', '{:2.2f} ± {:2.2f}%', '{:2.2f} ± {:2.2f}%', '{:2.2f} ± {:2.2f}%', '{:2.2f} ± {:2.2f}%']\n",
      "['WKS w=1.0', '{:2.2f} ± {:2.2f}%', '{:2.2f} ± {:2.2f}%', '{:2.2f} ± {:2.2f}%', '{:2.2f} ± {:2.2f}%', '{:2.2f} ± {:2.2f}%']\n",
      "['HKS', '{:2.2f} ± {:2.2f}%', '{:2.2f} ± {:2.2f}%', '{:2.2f} ± {:2.2f}%', '{:2.2f} ± {:2.2f}%', '{:2.2f} ± {:2.2f}%']\n",
      "['WKS', '{:2.2f} ± {:2.2f}%', '{:2.2f} ± {:2.2f}%', '{:2.2f} ± {:2.2f}%', '{:2.2f} ± {:2.2f}%', '{:2.2f} ± {:2.2f}%']\n"
     ]
    }
   ],
   "source": [
    "for i in range(len(acc)):\n",
    "    ste_unit = ste.iloc[i].tolist()\n",
    "    acc_unit = acc.iloc[i].tolist()\n",
    "    data_unit = ste_unit\n",
    "    for j in range(1,len(ste_unit)):\n",
    "        data_unit[j] = '{:2.2f} ± {:2.2f}%'.format(acc_unit[j],ste_unit[j])\n",
    "    print(data_unit)"
   ]
  },
  {
   "cell_type": "code",
   "execution_count": 12,
   "metadata": {},
   "outputs": [
    {
     "data": {
      "text/plain": [
       "0     86.64\n",
       "1     81.35\n",
       "2     83.48\n",
       "3     66.49\n",
       "4     76.14\n",
       "5     81.35\n",
       "6     78.13\n",
       "7     85.06\n",
       "8     77.57\n",
       "9     78.68\n",
       "10    80.85\n",
       "11    80.35\n",
       "12    85.12\n",
       "13    89.88\n",
       "14    92.51\n",
       "Name: MUTAG, dtype: float64"
      ]
     },
     "execution_count": 12,
     "metadata": {},
     "output_type": "execute_result"
    }
   ],
   "source": [
    "acc['MUTAG'] + ste['MUTAG']"
   ]
  },
  {
   "cell_type": "code",
   "execution_count": null,
   "metadata": {},
   "outputs": [],
   "source": []
  }
 ],
 "metadata": {
  "interpreter": {
   "hash": "a1971c9f38c2cf0d743ad2b9a2ce6f7ed15f68b6a421f032cbf050544a37987e"
  },
  "kernelspec": {
   "display_name": "Python 3.9.7 ('myenv')",
   "language": "python",
   "name": "python3"
  },
  "language_info": {
   "codemirror_mode": {
    "name": "ipython",
    "version": 3
   },
   "file_extension": ".py",
   "mimetype": "text/x-python",
   "name": "python",
   "nbconvert_exporter": "python",
   "pygments_lexer": "ipython3",
   "version": "3.9.7"
  },
  "orig_nbformat": 4
 },
 "nbformat": 4,
 "nbformat_minor": 2
}
