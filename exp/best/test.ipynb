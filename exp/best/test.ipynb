{
 "cells": [
  {
   "cell_type": "code",
   "execution_count": 1,
   "metadata": {},
   "outputs": [],
   "source": [
    "import os\n",
    "import pandas as pd"
   ]
  },
  {
   "cell_type": "code",
   "execution_count": 2,
   "metadata": {},
   "outputs": [
    {
     "name": "stdout",
     "output_type": "stream",
     "text": [
      "/home/ricardo/HKS-Wasserstein-kernel/exp/best\n",
      "/home/ricardo/HKS-Wasserstein-kernel\n"
     ]
    }
   ],
   "source": [
    "now_path = os.getcwd()\n",
    "output_path = os.getcwd()\n",
    "\n",
    "os.system(\"pwd\")\n",
    "os.chdir(\"../..\")\n",
    "os.system(\"pwd\")\n",
    "best_pd = pd.read_csv(\"best.csv\")\n"
   ]
  },
  {
   "cell_type": "code",
   "execution_count": 3,
   "metadata": {},
   "outputs": [
    {
     "data": {
      "text/html": [
       "<div>\n",
       "<style scoped>\n",
       "    .dataframe tbody tr th:only-of-type {\n",
       "        vertical-align: middle;\n",
       "    }\n",
       "\n",
       "    .dataframe tbody tr th {\n",
       "        vertical-align: top;\n",
       "    }\n",
       "\n",
       "    .dataframe thead th {\n",
       "        text-align: right;\n",
       "    }\n",
       "</style>\n",
       "<table border=\"1\" class=\"dataframe\">\n",
       "  <thead>\n",
       "    <tr style=\"text-align: right;\">\n",
       "      <th></th>\n",
       "      <th>dataset</th>\n",
       "      <th>method</th>\n",
       "      <th>sample</th>\n",
       "      <th>c</th>\n",
       "      <th>gamma</th>\n",
       "      <th>w</th>\n",
       "      <th>hl</th>\n",
       "      <th>accuracy</th>\n",
       "      <th>sinkhorn</th>\n",
       "    </tr>\n",
       "  </thead>\n",
       "  <tbody>\n",
       "    <tr>\n",
       "      <th>0</th>\n",
       "      <td>MUTAG</td>\n",
       "      <td>1</td>\n",
       "      <td>0</td>\n",
       "      <td>100.0</td>\n",
       "      <td>1.00</td>\n",
       "      <td>0.6</td>\n",
       "      <td>800</td>\n",
       "      <td>0.9091</td>\n",
       "      <td>False</td>\n",
       "    </tr>\n",
       "    <tr>\n",
       "      <th>1</th>\n",
       "      <td>PTC_MR</td>\n",
       "      <td>1</td>\n",
       "      <td>0</td>\n",
       "      <td>1.0</td>\n",
       "      <td>10.00</td>\n",
       "      <td>0.4</td>\n",
       "      <td>800</td>\n",
       "      <td>0.6620</td>\n",
       "      <td>False</td>\n",
       "    </tr>\n",
       "    <tr>\n",
       "      <th>2</th>\n",
       "      <td>ENZYMES</td>\n",
       "      <td>0</td>\n",
       "      <td>2</td>\n",
       "      <td>100.0</td>\n",
       "      <td>0.01</td>\n",
       "      <td>0.6</td>\n",
       "      <td>800</td>\n",
       "      <td>0.6850</td>\n",
       "      <td>False</td>\n",
       "    </tr>\n",
       "    <tr>\n",
       "      <th>3</th>\n",
       "      <td>PROTEINS</td>\n",
       "      <td>0</td>\n",
       "      <td>2</td>\n",
       "      <td>1.0</td>\n",
       "      <td>10.00</td>\n",
       "      <td>0.5</td>\n",
       "      <td>800</td>\n",
       "      <td>0.7769</td>\n",
       "      <td>False</td>\n",
       "    </tr>\n",
       "    <tr>\n",
       "      <th>4</th>\n",
       "      <td>DD</td>\n",
       "      <td>1</td>\n",
       "      <td>0</td>\n",
       "      <td>1000.0</td>\n",
       "      <td>1.00</td>\n",
       "      <td>0.5</td>\n",
       "      <td>800</td>\n",
       "      <td>0.7868</td>\n",
       "      <td>True</td>\n",
       "    </tr>\n",
       "  </tbody>\n",
       "</table>\n",
       "</div>"
      ],
      "text/plain": [
       "    dataset  method  sample       c  gamma    w   hl  accuracy  sinkhorn\n",
       "0     MUTAG       1       0   100.0   1.00  0.6  800    0.9091     False\n",
       "1    PTC_MR       1       0     1.0  10.00  0.4  800    0.6620     False\n",
       "2   ENZYMES       0       2   100.0   0.01  0.6  800    0.6850     False\n",
       "3  PROTEINS       0       2     1.0  10.00  0.5  800    0.7769     False\n",
       "4        DD       1       0  1000.0   1.00  0.5  800    0.7868      True"
      ]
     },
     "execution_count": 3,
     "metadata": {},
     "output_type": "execute_result"
    }
   ],
   "source": [
    "best_pd"
   ]
  },
  {
   "cell_type": "code",
   "execution_count": 9,
   "metadata": {},
   "outputs": [
    {
     "name": "stdout",
     "output_type": "stream",
     "text": [
      "python3 main.py -d MUTAG -m 1 -s 0 -c 100.0 -g 1.0 -w 0.6 -hl 800 -p /home/ricardo/HKS-Wasserstein-kernel/exp/best -n 0.60 -cv \n",
      "\n",
      "python3 main.py -d PTC_MR -m 1 -s 0 -c 1.0 -g 10.0 -w 0.4 -hl 800 -p /home/ricardo/HKS-Wasserstein-kernel/exp/best -n 0.40 -cv \n",
      "\n",
      "python3 main.py -d ENZYMES -m 0 -s 2 -c 100.0 -g 0.01 -w 0.6 -hl 800 -p /home/ricardo/HKS-Wasserstein-kernel/exp/best -n 0.60 -cv \n",
      "\n",
      "python3 main.py -d PROTEINS -m 0 -s 2 -c 1.0 -g 10.0 -w 0.5 -hl 800 -p /home/ricardo/HKS-Wasserstein-kernel/exp/best -n 0.50 -cv \n",
      "\n",
      "python3 main.py -d DD -m 1 -s 0 -c 1000.0 -g 1.0 -w 0.5 -hl 800 -p /home/ricardo/HKS-Wasserstein-kernel/exp/best -n 0.50 -cv --sinkhorn\n",
      "\n"
     ]
    }
   ],
   "source": [
    "for index,row in best_pd.iterrows():\n",
    "    if row[\"sinkhorn\"] == True:\n",
    "        sinkhorn = '--sinkhorn'\n",
    "    else:\n",
    "        sinkhorn = ''\n",
    "    dataset = row['dataset']\n",
    "    method_num = row['method']\n",
    "    sample = row['sample']\n",
    "    C = row['c']\n",
    "    g = row['gamma']\n",
    "    w = row['w']\n",
    "    hl = row['hl']\n",
    "    name = '{:1.2f}'.format(w)\n",
    "    print(f'python3 main.py -d {dataset} -m {method_num} -s {sample} -c {C} -g {g} -w {w} -hl {hl} -p {output_path} -n {name} -cv {sinkhorn}')"
   ]
  },
  {
   "cell_type": "code",
   "execution_count": null,
   "metadata": {},
   "outputs": [],
   "source": []
  }
 ],
 "metadata": {
  "interpreter": {
   "hash": "a1971c9f38c2cf0d743ad2b9a2ce6f7ed15f68b6a421f032cbf050544a37987e"
  },
  "kernelspec": {
   "display_name": "Python 3.9.7 ('myenv')",
   "language": "python",
   "name": "python3"
  },
  "language_info": {
   "codemirror_mode": {
    "name": "ipython",
    "version": 3
   },
   "file_extension": ".py",
   "mimetype": "text/x-python",
   "name": "python",
   "nbconvert_exporter": "python",
   "pygments_lexer": "ipython3",
   "version": "3.9.7"
  },
  "orig_nbformat": 4
 },
 "nbformat": 4,
 "nbformat_minor": 2
}
