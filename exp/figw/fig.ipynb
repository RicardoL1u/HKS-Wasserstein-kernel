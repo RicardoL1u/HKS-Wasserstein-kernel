{
 "cells": [
  {
   "cell_type": "code",
   "execution_count": 1,
   "metadata": {},
   "outputs": [],
   "source": [
    "# import csv\n",
    "import os\n",
    "import numpy as np\n",
    "import pandas as pd\n",
    "dataset = 'PROTEINS'\n",
    "x0 = 0.0\n",
    "x1 = 1.0\n",
    "y0 = 0.65\n",
    "y1 = 0.85"
   ]
  },
  {
   "cell_type": "code",
   "execution_count": 2,
   "metadata": {},
   "outputs": [],
   "source": [
    "method_list = ['HKS','WKS']\n",
    "Path_list = [\"./results/PROTEINS/\"+method+\"/\" for method in method_list]\n",
    "x_axis = [0.00,0.05,0.10,0.15,0.20,0.25,\n",
    "              0.30,0.35,0.40,0.45,0.50,0.55,\n",
    "              0.60,0.65,0.70,0.75,0.80,0.85,\n",
    "              0.90,0.95,1.00]\n",
    "\n",
    "# Get list of all files in a given directory sorted by name\n",
    "list_of_files = [sorted( filter( lambda x: os.path.isfile(os.path.join(Path, x)),\n",
    "                        os.listdir(Path) ) ) for Path in Path_list]\n",
    "results_list = []\n",
    "results_list.append([pd.read_csv(Path_list[0]+i) for i in list_of_files[0] ])\n",
    "results_list.append([pd.read_csv(Path_list[1]+i) for i in list_of_files[1] ])"
   ]
  },
  {
   "cell_type": "code",
   "execution_count": 3,
   "metadata": {},
   "outputs": [
    {
     "data": {
      "text/html": [
       "<div>\n",
       "<style scoped>\n",
       "    .dataframe tbody tr th:only-of-type {\n",
       "        vertical-align: middle;\n",
       "    }\n",
       "\n",
       "    .dataframe tbody tr th {\n",
       "        vertical-align: top;\n",
       "    }\n",
       "\n",
       "    .dataframe thead th {\n",
       "        text-align: right;\n",
       "    }\n",
       "</style>\n",
       "<table border=\"1\" class=\"dataframe\">\n",
       "  <thead>\n",
       "    <tr style=\"text-align: right;\">\n",
       "      <th></th>\n",
       "      <th>Unnamed: 0</th>\n",
       "      <th>w</th>\n",
       "      <th>C</th>\n",
       "      <th>gamma</th>\n",
       "      <th>accuracy</th>\n",
       "    </tr>\n",
       "  </thead>\n",
       "  <tbody>\n",
       "    <tr>\n",
       "      <th>0</th>\n",
       "      <td>fold_id0</td>\n",
       "      <td>0.0</td>\n",
       "      <td>1.0</td>\n",
       "      <td>1.0</td>\n",
       "      <td>0.723214</td>\n",
       "    </tr>\n",
       "    <tr>\n",
       "      <th>1</th>\n",
       "      <td>fold_id1</td>\n",
       "      <td>0.0</td>\n",
       "      <td>1.0</td>\n",
       "      <td>1.0</td>\n",
       "      <td>0.758929</td>\n",
       "    </tr>\n",
       "    <tr>\n",
       "      <th>2</th>\n",
       "      <td>fold_id2</td>\n",
       "      <td>0.0</td>\n",
       "      <td>1.0</td>\n",
       "      <td>1.0</td>\n",
       "      <td>0.702703</td>\n",
       "    </tr>\n",
       "    <tr>\n",
       "      <th>3</th>\n",
       "      <td>fold_id3</td>\n",
       "      <td>0.0</td>\n",
       "      <td>1.0</td>\n",
       "      <td>1.0</td>\n",
       "      <td>0.756757</td>\n",
       "    </tr>\n",
       "    <tr>\n",
       "      <th>4</th>\n",
       "      <td>fold_id4</td>\n",
       "      <td>0.0</td>\n",
       "      <td>1.0</td>\n",
       "      <td>1.0</td>\n",
       "      <td>0.756757</td>\n",
       "    </tr>\n",
       "    <tr>\n",
       "      <th>5</th>\n",
       "      <td>fold_id5</td>\n",
       "      <td>0.0</td>\n",
       "      <td>1.0</td>\n",
       "      <td>1.0</td>\n",
       "      <td>0.747748</td>\n",
       "    </tr>\n",
       "    <tr>\n",
       "      <th>6</th>\n",
       "      <td>fold_id6</td>\n",
       "      <td>0.0</td>\n",
       "      <td>1.0</td>\n",
       "      <td>1.0</td>\n",
       "      <td>0.756757</td>\n",
       "    </tr>\n",
       "    <tr>\n",
       "      <th>7</th>\n",
       "      <td>fold_id7</td>\n",
       "      <td>0.0</td>\n",
       "      <td>1.0</td>\n",
       "      <td>1.0</td>\n",
       "      <td>0.756757</td>\n",
       "    </tr>\n",
       "    <tr>\n",
       "      <th>8</th>\n",
       "      <td>fold_id8</td>\n",
       "      <td>0.0</td>\n",
       "      <td>1.0</td>\n",
       "      <td>1.0</td>\n",
       "      <td>0.783784</td>\n",
       "    </tr>\n",
       "    <tr>\n",
       "      <th>9</th>\n",
       "      <td>fold_id9</td>\n",
       "      <td>0.0</td>\n",
       "      <td>1.0</td>\n",
       "      <td>1.0</td>\n",
       "      <td>0.774775</td>\n",
       "    </tr>\n",
       "  </tbody>\n",
       "</table>\n",
       "</div>"
      ],
      "text/plain": [
       "  Unnamed: 0    w    C  gamma  accuracy\n",
       "0   fold_id0  0.0  1.0    1.0  0.723214\n",
       "1   fold_id1  0.0  1.0    1.0  0.758929\n",
       "2   fold_id2  0.0  1.0    1.0  0.702703\n",
       "3   fold_id3  0.0  1.0    1.0  0.756757\n",
       "4   fold_id4  0.0  1.0    1.0  0.756757\n",
       "5   fold_id5  0.0  1.0    1.0  0.747748\n",
       "6   fold_id6  0.0  1.0    1.0  0.756757\n",
       "7   fold_id7  0.0  1.0    1.0  0.756757\n",
       "8   fold_id8  0.0  1.0    1.0  0.783784\n",
       "9   fold_id9  0.0  1.0    1.0  0.774775"
      ]
     },
     "execution_count": 3,
     "metadata": {},
     "output_type": "execute_result"
    }
   ],
   "source": [
    "results_list[0][0]"
   ]
  },
  {
   "cell_type": "code",
   "execution_count": 4,
   "metadata": {},
   "outputs": [
    {
     "ename": "IndexError",
     "evalue": "list index out of range",
     "output_type": "error",
     "traceback": [
      "\u001b[0;31m---------------------------------------------------------------------------\u001b[0m",
      "\u001b[0;31mIndexError\u001b[0m                                Traceback (most recent call last)",
      "\u001b[1;32m/home/ricardo/HKS-Wasserstein-kernel/exp/figw/fig.ipynb Cell 4'\u001b[0m in \u001b[0;36m<cell line: 3>\u001b[0;34m()\u001b[0m\n\u001b[1;32m      <a href='vscode-notebook-cell://wsl%2Bubuntu/home/ricardo/HKS-Wasserstein-kernel/exp/figw/fig.ipynb#ch0000003vscode-remote?line=0'>1</a>\u001b[0m hks_means \u001b[39m=\u001b[39m np\u001b[39m.\u001b[39marray([np\u001b[39m.\u001b[39mmean(file[\u001b[39m\"\u001b[39m\u001b[39maccuracy\u001b[39m\u001b[39m\"\u001b[39m]) \u001b[39mfor\u001b[39;00m file \u001b[39min\u001b[39;00m results_list[\u001b[39m0\u001b[39m]])\n\u001b[1;32m      <a href='vscode-notebook-cell://wsl%2Bubuntu/home/ricardo/HKS-Wasserstein-kernel/exp/figw/fig.ipynb#ch0000003vscode-remote?line=1'>2</a>\u001b[0m hks_stes \u001b[39m=\u001b[39m np\u001b[39m.\u001b[39marray([np\u001b[39m.\u001b[39mstd(file[\u001b[39m\"\u001b[39m\u001b[39maccuracy\u001b[39m\u001b[39m\"\u001b[39m]) \u001b[39mfor\u001b[39;00m file \u001b[39min\u001b[39;00m results_list[\u001b[39m0\u001b[39m]])\u001b[39m/\u001b[39mnp\u001b[39m.\u001b[39msqrt(\u001b[39m10\u001b[39m)\n\u001b[0;32m----> <a href='vscode-notebook-cell://wsl%2Bubuntu/home/ricardo/HKS-Wasserstein-kernel/exp/figw/fig.ipynb#ch0000003vscode-remote?line=2'>3</a>\u001b[0m wks_means \u001b[39m=\u001b[39m np\u001b[39m.\u001b[39marray([np\u001b[39m.\u001b[39mmean(file[\u001b[39m\"\u001b[39m\u001b[39maccuracy\u001b[39m\u001b[39m\"\u001b[39m]) \u001b[39mfor\u001b[39;00m file \u001b[39min\u001b[39;00m results_list[\u001b[39m1\u001b[39;49m]])\n\u001b[1;32m      <a href='vscode-notebook-cell://wsl%2Bubuntu/home/ricardo/HKS-Wasserstein-kernel/exp/figw/fig.ipynb#ch0000003vscode-remote?line=3'>4</a>\u001b[0m wks_stes \u001b[39m=\u001b[39m np\u001b[39m.\u001b[39marray([np\u001b[39m.\u001b[39mstd(file[\u001b[39m\"\u001b[39m\u001b[39maccuracy\u001b[39m\u001b[39m\"\u001b[39m]) \u001b[39mfor\u001b[39;00m file \u001b[39min\u001b[39;00m results_list[\u001b[39m1\u001b[39m]])\u001b[39m/\u001b[39mnp\u001b[39m.\u001b[39msqrt(\u001b[39m10\u001b[39m)\n",
      "\u001b[0;31mIndexError\u001b[0m: list index out of range"
     ]
    }
   ],
   "source": [
    "hks_means = np.array([np.mean(file[\"accuracy\"]) for file in results_list[0]])\n",
    "hks_stes = np.array([np.std(file[\"accuracy\"]) for file in results_list[0]])/np.sqrt(10)\n",
    "wks_means = np.array([np.mean(file[\"accuracy\"]) for file in results_list[1]])\n",
    "wks_stes = np.array([np.std(file[\"accuracy\"]) for file in results_list[1]])/np.sqrt(10)"
   ]
  },
  {
   "cell_type": "code",
   "execution_count": null,
   "metadata": {},
   "outputs": [
    {
     "data": {
      "image/png": "[encoded data removed]",
      "text/plain": [
       "<Figure size 576x288 with 1 Axes>"
      ]
     },
     "metadata": {
      "needs_background": "light"
     },
     "output_type": "display_data"
    },
    {
     "data": {
      "text/plain": [
       "<Figure size 144x144 with 0 Axes>"
      ]
     },
     "metadata": {},
     "output_type": "display_data"
    }
   ],
   "source": [
    "import matplotlib.pyplot as plt\n",
    "plt.style.use('_mpl-gallery')\n",
    "# plot\n",
    "fig, ax = plt.subplots()\n",
    "fig.set_size_inches(8, 4)\n",
    "\n",
    "# plt.title(\"effect of w for WKS in PROTEINS\") \n",
    "plt.xlabel(\"w\") \n",
    "plt.ylabel(\"avg classification accuracy ± standard error\") \n",
    "\n",
    "# ax.fill_between(x_axis, hks_means-hks_stes, hks_means+hks_stes, alpha=.5, linewidth=0)\n",
    "ax.fill_between(x_axis, wks_means-wks_stes, wks_means+wks_stes, alpha=.5, linewidth=0)\n",
    "\n",
    "# ax.plot(x_axis, hks_means, linewidth=2)\n",
    "ax.plot(x_axis, wks_means, linewidth=2)\n",
    "ax.grid(False)\n",
    "ax.set(xlim=(x0, x1), xticks=np.arange(x0, x1+0.05, 0.05),\n",
    "       ylim=(y0, y1), yticks=np.arange(y0, y1, 0.025))\n",
    "plt.show()\n",
    "plt.savefig('effect of w for WKS in PROTEINS.png', bbox_inches='tight', pad_inches=0)"
   ]
  },
  {
   "cell_type": "code",
   "execution_count": null,
   "metadata": {},
   "outputs": [],
   "source": []
  }
 ],
 "metadata": {
  "interpreter": {
   "hash": "a1971c9f38c2cf0d743ad2b9a2ce6f7ed15f68b6a421f032cbf050544a37987e"
  },
  "kernelspec": {
   "display_name": "Python 3.9.7 ('myenv')",
   "language": "python",
   "name": "python3"
  },
  "language_info": {
   "codemirror_mode": {
    "name": "ipython",
    "version": 3
   },
   "file_extension": ".py",
   "mimetype": "text/x-python",
   "name": "python",
   "nbconvert_exporter": "python",
   "pygments_lexer": "ipython3",
   "version": "3.9.7"
  },
  "orig_nbformat": 4
 },
 "nbformat": 4,
 "nbformat_minor": 2
}
